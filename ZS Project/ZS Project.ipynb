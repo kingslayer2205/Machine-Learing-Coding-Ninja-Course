{
 "cells": [
  {
   "cell_type": "markdown",
   "metadata": {},
   "source": [
    "# Scenario 1 : Q1.1"
   ]
  },
  {
   "cell_type": "code",
   "execution_count": 475,
   "metadata": {},
   "outputs": [],
   "source": [
    "import numpy as np\n",
    "\n",
    "cost = np.array([330 ,240,150,160,150]) # in Thousands\n",
    "impact = np.array([35,25,17,15,8])"
   ]
  },
  {
   "cell_type": "code",
   "execution_count": 37,
   "metadata": {},
   "outputs": [],
   "source": [
    "impact_per_ad_cost =  impact/cost"
   ]
  },
  {
   "cell_type": "code",
   "execution_count": 476,
   "metadata": {},
   "outputs": [
    {
     "name": "stdout",
     "output_type": "stream",
     "text": [
      "[0.10606061 0.10416667 0.11333333 0.09375    0.05333333]\n",
      "tv print website social media event\n"
     ]
    }
   ],
   "source": [
    "print(impact_per_ad_cost)\n",
    "print('tv' , 'print' , 'website' , 'social media' , 'event')"
   ]
  },
  {
   "cell_type": "code",
   "execution_count": 479,
   "metadata": {},
   "outputs": [
    {
     "name": "stdout",
     "output_type": "stream",
     "text": [
      "Priority :-  Website > tv > print > social media > event\n"
     ]
    }
   ],
   "source": [
    "print('Priority :- ','Website >' , 'tv >' , 'print >','social media >','event' )"
   ]
  },
  {
   "cell_type": "markdown",
   "metadata": {},
   "source": [
    "# Scenario 1 : Q1.2"
   ]
  },
  {
   "cell_type": "code",
   "execution_count": 480,
   "metadata": {},
   "outputs": [],
   "source": [
    "Access = np.array([8,6,9,10,4])\n",
    "Popular = np.array([7,5,4,9,3])\n",
    "channel = ['tv' , 'print' , 'website' , 'social media' , 'event']"
   ]
  },
  {
   "cell_type": "code",
   "execution_count": 481,
   "metadata": {},
   "outputs": [
    {
     "data": {
      "text/plain": [
       "array([7.5, 5.5, 6.5, 9.5, 3.5])"
      ]
     },
     "execution_count": 481,
     "metadata": {},
     "output_type": "execute_result"
    }
   ],
   "source": [
    "avg_rating = (Access + Popular) / 2\n",
    "avg_rating"
   ]
  },
  {
   "cell_type": "code",
   "execution_count": 482,
   "metadata": {},
   "outputs": [],
   "source": [
    "Optimational_promotional_channel = impact_per_ad_cost * avg_rating"
   ]
  },
  {
   "cell_type": "code",
   "execution_count": 484,
   "metadata": {},
   "outputs": [
    {
     "data": {
      "text/plain": [
       "array([0.79545455, 0.57291667, 0.73666667, 0.890625  , 0.18666667])"
      ]
     },
     "execution_count": 484,
     "metadata": {},
     "output_type": "execute_result"
    }
   ],
   "source": [
    "Optimational_promotional_channel"
   ]
  },
  {
   "cell_type": "code",
   "execution_count": 487,
   "metadata": {},
   "outputs": [
    {
     "name": "stdout",
     "output_type": "stream",
     "text": [
      "A.) Considering Q1.1 and 1.2 : social media > tv > website\n"
     ]
    }
   ],
   "source": [
    "print('A.) Considering Q1.1 and 1.2 :' , 'social media >' , 'tv >', 'website')"
   ]
  },
  {
   "cell_type": "code",
   "execution_count": null,
   "metadata": {},
   "outputs": [],
   "source": []
  },
  {
   "cell_type": "markdown",
   "metadata": {},
   "source": [
    "# Scenario 1 : Q2.1"
   ]
  },
  {
   "cell_type": "code",
   "execution_count": 81,
   "metadata": {},
   "outputs": [],
   "source": [
    "rel_pop = np.array([54230 , 92800 , 86400])\n",
    "curr_pop = np.array([34707,36192,29376])\n",
    "yr_sales = np.array([40,28,32]) * 20000 # in thousand\n",
    "market_share = np.array([0.63,0.84,0.60])\n",
    "product_share = yr_sales * market_share"
   ]
  },
  {
   "cell_type": "code",
   "execution_count": 82,
   "metadata": {},
   "outputs": [
    {
     "data": {
      "text/plain": [
       "array([14.52156625, 12.99734748, 13.07189542])"
      ]
     },
     "execution_count": 82,
     "metadata": {},
     "output_type": "execute_result"
    }
   ],
   "source": [
    "rev_per_pop = product_share / curr_pop\n",
    "rev_per_pop"
   ]
  },
  {
   "cell_type": "code",
   "execution_count": 83,
   "metadata": {},
   "outputs": [
    {
     "data": {
      "text/plain": [
       "array([ 787504.53798945, 1206153.84615385, 1129411.76470588])"
      ]
     },
     "execution_count": 83,
     "metadata": {},
     "output_type": "execute_result"
    }
   ],
   "source": [
    "rev_possible_per_region = rev_per_pop * rel_pop\n",
    "rev_possible_per_region"
   ]
  },
  {
   "cell_type": "code",
   "execution_count": 551,
   "metadata": {},
   "outputs": [
    {
     "name": "stdout",
     "output_type": "stream",
     "text": [
      "percentage growth:  [14.1752269  36.78769231 37.27058824]\n",
      "Region Priority : Region 3 > Region 2 > Region 1\n"
     ]
    }
   ],
   "source": [
    "rev_incresed = rev_possible_per_region - product_share\n",
    "print('percentage growth: ',rev_incresed/20000)\n",
    "print('Region Priority : Region 3 > Region 2 > Region 1')"
   ]
  },
  {
   "cell_type": "markdown",
   "metadata": {},
   "source": [
    "# Scenario 1 : Q2.2\n"
   ]
  },
  {
   "cell_type": "code",
   "execution_count": 638,
   "metadata": {},
   "outputs": [],
   "source": [
    "time_df = pd.read_csv('ads_time.csv')\n",
    "time_df = time_df.iloc[:12]\n",
    "\n",
    "up_time_df = time_df.drop(columns = ['s.2','ss.1','s.3','s.4'])\n",
    "up_time_df = up_time_df.join(pd.get_dummies(time_df['events']))\n",
    "up_time_df = up_time_df.drop(columns = ['events'])\n",
    "# pd.get_dummies(time_df['events'])"
   ]
  },
  {
   "cell_type": "code",
   "execution_count": 642,
   "metadata": {},
   "outputs": [],
   "source": [
    "training_data = []\n",
    "y1 = []\n",
    "y2 = []\n",
    "y3 = []\n",
    "y4 = []\n",
    "training_data = up_time_df.to_numpy()\n",
    "for i in time_df.to_numpy():\n",
    "    y1.append(i[5])\n",
    "    y2.append(i[6])\n",
    "    y3.append(i[7])\n",
    "    y4.append(i[8])\n",
    "    "
   ]
  },
  {
   "cell_type": "code",
   "execution_count": 637,
   "metadata": {},
   "outputs": [
    {
     "name": "stdout",
     "output_type": "stream",
     "text": [
      "(1.0, 0.0, 0.0, 1.0)\n",
      "(1.0, 1.0, 1.0, 1.0)\n",
      "(0.0, 0.0, 0.0, 0.0)\n"
     ]
    }
   ],
   "source": [
    "testing = [[507,120,0,600,0,1,0,0] , [507,90,1,800,0,0,1,0],[1012,90,0,500,1,0,0,0]]\n",
    "from sklearn import tree\n",
    "clf1 = tree.DecisionTreeClassifier()\n",
    "clf1.fit(training_data ,y1)\n",
    "clf2 = tree.DecisionTreeClassifier()\n",
    "clf2.fit(training_data ,y2)\n",
    "clf3 = tree.DecisionTreeClassifier()\n",
    "clf3.fit(training_data ,y3)\n",
    "clf4 = tree.DecisionTreeClassifier()\n",
    "clf4.fit(training_data ,y4)\n",
    "\n",
    "p1 = clf1.predict(testing)\n",
    "p2 = clf2.predict(testing)\n",
    "p3 = clf3.predict(testing)\n",
    "p4 = clf4.predict(testing)\n",
    "\n",
    "for i in range(3):\n",
    "    print((p1[i],p2[i],p3[i],p4[i]))"
   ]
  },
  {
   "cell_type": "code",
   "execution_count": null,
   "metadata": {},
   "outputs": [],
   "source": []
  },
  {
   "cell_type": "code",
   "execution_count": null,
   "metadata": {},
   "outputs": [],
   "source": []
  },
  {
   "cell_type": "code",
   "execution_count": null,
   "metadata": {},
   "outputs": [],
   "source": []
  },
  {
   "cell_type": "markdown",
   "metadata": {},
   "source": [
    "# Scenario 1 : Q3.1"
   ]
  },
  {
   "cell_type": "code",
   "execution_count": 525,
   "metadata": {},
   "outputs": [
    {
     "name": "stdout",
     "output_type": "stream",
     "text": [
      "0.4758730158730159\n",
      "0.4762842712842712\n",
      "0.40426973026973023\n",
      "0.3628968253968254\n",
      "0.12428571428571429\n"
     ]
    }
   ],
   "source": [
    "tv_ads = np.array([i for i in range(40,401,40)]) * 25000 / 1000000\n",
    "tv_sales = np.array([0.5,1,1.5,2,2.25,3,3.25,4,4,4]) * 1000000/1000000\n",
    "print_ads = np.array([i for i in range(100 , 551 , 50)])\n",
    "print_ads[0] = 125\n",
    "print_ads = print_ads * 20000 /1000000\n",
    "print_sales = np.array([1,1.5,2,2.5,3.5,4,4,4,4,4]) * 1000000/1000000\n",
    "web_ads = np.array([i for i in range(100,326,25)]) * 200000/1000000\n",
    "web_sales = np.array([0,1,8,15,20,27,30,32,32,32]) * 1000000/1000000\n",
    "social_ads = np.array([i for i in range(10,101,10)]) * 1000 *100/1000000\n",
    "social_sales = np.array([0.25,0.75,1,1.5,2,2.5,2.75,3,3.25,3.5])*1000000/1000000\n",
    "event_ads =np.array([i for i in range(20,201 , 20)]) * 150000/1000000\n",
    "event_sales = np.array([0.25,0.5,1,2,2.5,2.75,3,3,3,3]) * 1000000/1000000\n",
    "print((tv_sales/ tv_ads).mean() )\n",
    "print((print_sales / print_ads).mean())\n",
    "print((web_sales / web_ads).mean())\n",
    "print((social_sales / social_ads).mean())\n",
    "print(((event_sales / event_ads).mean()))"
   ]
  },
  {
   "cell_type": "code",
   "execution_count": 504,
   "metadata": {},
   "outputs": [
    {
     "name": "stdout",
     "output_type": "stream",
     "text": [
      "Best Optimal 3 Channels : Print_ads > Tv_ads > Website_Display\n"
     ]
    }
   ],
   "source": [
    "print('Best Optimal 3 Channels : Print_ads > Tv_ads > Website_Display')"
   ]
  },
  {
   "cell_type": "markdown",
   "metadata": {},
   "source": [
    "# Scenario 1 : Q3.2"
   ]
  },
  {
   "cell_type": "code",
   "execution_count": 534,
   "metadata": {},
   "outputs": [
    {
     "name": "stdout",
     "output_type": "stream",
     "text": [
      "Maximum Revenue Possible: 29.5 \n",
      "ROI :  0.59\n",
      "50M Spend : 3.0 2.0 45.0\n",
      "Maximum Revenue Possible per Segment: 1.5 1.0 27.0\n"
     ]
    }
   ],
   "source": [
    "max_sales = -50\n",
    "fin_i = 0\n",
    "fin_j = 0\n",
    "fin_k = 0\n",
    "bug_i = 0\n",
    "bug_j = 0\n",
    "bug_k = 0\n",
    "for i in range(10):\n",
    "    for j in range(10):\n",
    "        for k in range(10):\n",
    "            if (print_ads[i] + tv_ads[j] + web_ads[k]) <= 50:\n",
    "                l = (print_sales[i] + tv_sales[j] + web_sales[k])\n",
    "                if l>max_sales:\n",
    "                    max_sales = l\n",
    "                    fin_i = print_sales[i]\n",
    "                    fin_j = tv_sales[j]\n",
    "                    fin_k = web_sales[k]\n",
    "                    bug_i = print_ads[i] \n",
    "                    bug_j =  tv_ads[j] \n",
    "                    bug_k =  web_ads[k]\n",
    "\n",
    "\n",
    "\n",
    "print('Maximum Revenue Possible:',max_sales , '\\nROI : ',max_sales/50 )\n",
    "print('50M Spend :',bug_i , bug_j , bug_k)\n",
    "print('Maximum Revenue Possible per Segment:',fin_i,fin_j,fin_k)"
   ]
  },
  {
   "cell_type": "markdown",
   "metadata": {},
   "source": [
    "# Scenario 1 : Q3.3"
   ]
  },
  {
   "cell_type": "code",
   "execution_count": 224,
   "metadata": {},
   "outputs": [],
   "source": [
    "children = np.array([150,15,60,10,30]) * .2\n",
    "young = np.array([30,30,180,30,180]) * .4\n",
    "mid = np.array([120,60,60,30,60]) * .3\n",
    "senior=np.array([ 30,120,30,30,10])* .1"
   ]
  },
  {
   "cell_type": "code",
   "execution_count": 508,
   "metadata": {},
   "outputs": [
    {
     "data": {
      "text/plain": [
       "array([ 81.,  45., 105.,  26.,  97.])"
      ]
     },
     "execution_count": 508,
     "metadata": {},
     "output_type": "execute_result"
    }
   ],
   "source": [
    "children + young + mid + senior"
   ]
  },
  {
   "cell_type": "code",
   "execution_count": 512,
   "metadata": {},
   "outputs": [
    {
     "name": "stdout",
     "output_type": "stream",
     "text": [
      "Company Should Reduce Using \"PRINT_ADS\" as its less effecive for targeted Audiance\n"
     ]
    }
   ],
   "source": [
    "print('Company Should Reduce Using \"PRINT_ADS\" as its less effecive for targeted Audiance')"
   ]
  },
  {
   "cell_type": "markdown",
   "metadata": {},
   "source": [
    "# Objective (Bussiness Consulting)"
   ]
  },
  {
   "cell_type": "code",
   "execution_count": 521,
   "metadata": {},
   "outputs": [
    {
     "name": "stdout",
     "output_type": "stream",
     "text": [
      "1.) A.)  210.67961165048544 Million\n"
     ]
    }
   ],
   "source": [
    "print('1.) A.) ',0.35 *2000 *(cost[3] + cost[4] )/sum(cost),'Million')"
   ]
  },
  {
   "cell_type": "code",
   "execution_count": 530,
   "metadata": {},
   "outputs": [
    {
     "name": "stdout",
     "output_type": "stream",
     "text": [
      "2.) A.) ROI for 3 Channel at optimal promotional split : 0.4521423391423391\n"
     ]
    }
   ],
   "source": [
    "print('2.) A.) ROI for 3 Channel at optimal promotional split :',( (tv_sales/ tv_ads).mean() + (print_sales / print_ads).mean() + (web_sales / web_ads).mean() )/3)\n"
   ]
  },
  {
   "cell_type": "code",
   "execution_count": 533,
   "metadata": {},
   "outputs": [
    {
     "name": "stdout",
     "output_type": "stream",
     "text": [
      "2.) B.) ROI for Total Budget(50M) : 0.59 \n",
      "and Maximum revenue after optimational Split:  29.5\n"
     ]
    }
   ],
   "source": [
    "print('2.) B.) ROI for Total Budget(50M) :', 29.5/50 ,'\\nand Maximum revenue after optimational Split: ',29.5  )"
   ]
  },
  {
   "cell_type": "code",
   "execution_count": 536,
   "metadata": {},
   "outputs": [
    {
     "name": "stdout",
     "output_type": "stream",
     "text": [
      "Maximum Revenue Possible:  23.5 \n",
      "ROI :  0.47\n",
      "50M Spend : 3.0 2.0 40.0 2.0 3.0\n",
      "Maximum Revenue Possible per Segment: 1.5 1.0 20.0 0.75 0.25\n"
     ]
    }
   ],
   "source": [
    "max_sales = -50\n",
    "fin_i = 0\n",
    "fin_j = 0\n",
    "fin_k = 0\n",
    "fin_x = 0\n",
    "fin_y = 0\n",
    "bug_i = 0\n",
    "bug_j = 0\n",
    "bug_k = 0\n",
    "bug_x = 0\n",
    "bug_y = 0\n",
    "for i in range(10):\n",
    "    for j in range(10):\n",
    "        for k in range(10):\n",
    "            for x in range(10):\n",
    "                for y in range(10):\n",
    "                    if (print_ads[i] + tv_ads[j] + web_ads[k] + social_ads[x] + event_ads[y]) <= 50:\n",
    "                        l = (print_sales[i] + tv_sales[j] + web_sales[k] + social_sales[x] + event_sales[y])\n",
    "                        if l>max_sales:\n",
    "                            max_sales = l\n",
    "                            fin_i = print_sales[i]\n",
    "                            fin_j = tv_sales[j]\n",
    "                            fin_k = web_sales[k]\n",
    "                            fin_x = social_sales[x]\n",
    "                            fin_y = event_sales[y]\n",
    "\n",
    "                            bug_i = print_ads[i] \n",
    "                            bug_j =  tv_ads[j] \n",
    "                            bug_k =  web_ads[k]\n",
    "                            bug_x = social_ads[x] \n",
    "                            bug_y = event_ads[y]\n",
    "print('Maximum Revenue Possible: ',max_sales ,'\\nROI : ',max_sales/50 )\n",
    "print('50M Spend :',bug_i , bug_j , bug_k ,bug_x,bug_y)\n",
    "print('Maximum Revenue Possible per Segment:',fin_i,fin_j,fin_k ,fin_x , fin_y)"
   ]
  },
  {
   "cell_type": "markdown",
   "metadata": {},
   "source": [
    "# Business Operations- Scenario2\n"
   ]
  },
  {
   "cell_type": "markdown",
   "metadata": {},
   "source": [
    "# Scenario 2 : Q1.1"
   ]
  },
  {
   "cell_type": "code",
   "execution_count": 538,
   "metadata": {},
   "outputs": [],
   "source": [
    "import pandas as pd\n",
    "import matplotlib.pyplot as plt"
   ]
  },
  {
   "cell_type": "code",
   "execution_count": 539,
   "metadata": {},
   "outputs": [],
   "source": [
    "df_Q1_1 = pd.read_excel('2021 Case Challenge_Data set (BO) (3).xlsx',sheet_name='P1.Q1.1 Payout')"
   ]
  },
  {
   "cell_type": "code",
   "execution_count": 643,
   "metadata": {},
   "outputs": [
    {
     "data": {
      "text/plain": [
       "[<matplotlib.lines.Line2D at 0x1d3d2155af0>]"
      ]
     },
     "execution_count": 643,
     "metadata": {},
     "output_type": "execute_result"
    },
    {
     "data": {
      "image/png": "[encoded data removed]",
      "text/plain": [
       "<Figure size 432x288 with 1 Axes>"
      ]
     },
     "metadata": {
      "needs_background": "light"
     },
     "output_type": "display_data"
    }
   ],
   "source": [
    "plt.plot(df_Q1_1['Attainment'] , df_Q1_1['Payout'])"
   ]
  },
  {
   "cell_type": "markdown",
   "metadata": {},
   "source": [
    "# Scenario 2 : Q1.2"
   ]
  },
  {
   "cell_type": "code",
   "execution_count": 645,
   "metadata": {},
   "outputs": [],
   "source": [
    "df_Q1_2 = pd.read_excel('2021 Case Challenge_Data set (BO) (3).xlsx',sheet_name='P1.Q1.2 Attainment')\n",
    "updated_df2 = df_Q1_2.drop(columns = ['Wholesaler ID','Month','Date of Purchase','Product Type','ZIP','City','Manager Name','Q3 - 2020 Goals'])"
   ]
  },
  {
   "cell_type": "code",
   "execution_count": 648,
   "metadata": {},
   "outputs": [],
   "source": [
    "updated_df2_q1 = updated_df2\n",
    "a = []\n",
    "for i in updated_df2_q1['Capacity (ml)']:\n",
    "    a.append(int(i.replace('ml','')))\n",
    "updated_df2_q1['capacity'] = np.array(a) /500\n",
    "df_2_q1 = updated_df2_q1.drop(columns = ['Capacity (ml)'])\n",
    "df_2_q1['net quan'] = df_2_q1['capacity'] * df_2_q1['Quantity Purchased']"
   ]
  },
  {
   "cell_type": "code",
   "execution_count": 652,
   "metadata": {},
   "outputs": [
    {
     "data": {
      "text/plain": [
       "Manager ID\n",
       "10011     124695.5\n",
       "10012     216948.0\n",
       "10013     241285.5\n",
       "10014     173087.5\n",
       "10015    1002223.5\n",
       "Name: net quan, dtype: float64"
      ]
     },
     "execution_count": 652,
     "metadata": {},
     "output_type": "execute_result"
    }
   ],
   "source": [
    "d = df_2_q1.groupby('Manager ID')['net quan'].sum()\n",
    "d.head()"
   ]
  },
  {
   "cell_type": "code",
   "execution_count": 669,
   "metadata": {},
   "outputs": [],
   "source": [
    "df_Q1_Inc = pd.read_excel('2021 Case Challenge_Data set (BO) (3).xlsx',sheet_name='P1.Q1.2 Incentive')"
   ]
  },
  {
   "cell_type": "code",
   "execution_count": 670,
   "metadata": {},
   "outputs": [],
   "source": [
    "df_Q1_Inc.sort_values(by = 'Manager ID' , inplace = True)"
   ]
  },
  {
   "cell_type": "code",
   "execution_count": 671,
   "metadata": {},
   "outputs": [],
   "source": [
    "df_Q1_Inc['total_sales'] = [i for i in d]"
   ]
  },
  {
   "cell_type": "code",
   "execution_count": 672,
   "metadata": {},
   "outputs": [],
   "source": [
    "df_Q1_Inc['X_time'] = df_Q1_Inc['total_sales'] / df_Q1_Inc['Q3 - 2020 Goals (SU)']"
   ]
  },
  {
   "cell_type": "code",
   "execution_count": 673,
   "metadata": {},
   "outputs": [
    {
     "data": {
      "text/html": [
       "<div>\n",
       "<style scoped>\n",
       "    .dataframe tbody tr th:only-of-type {\n",
       "        vertical-align: middle;\n",
       "    }\n",
       "\n",
       "    .dataframe tbody tr th {\n",
       "        vertical-align: top;\n",
       "    }\n",
       "\n",
       "    .dataframe thead th {\n",
       "        text-align: right;\n",
       "    }\n",
       "</style>\n",
       "<table border=\"1\" class=\"dataframe\">\n",
       "  <thead>\n",
       "    <tr style=\"text-align: right;\">\n",
       "      <th></th>\n",
       "      <th>Manager ID</th>\n",
       "      <th>Manager Name</th>\n",
       "      <th>City</th>\n",
       "      <th>Q3 - 2020 Goals (SU)</th>\n",
       "      <th>total_sales</th>\n",
       "      <th>X_time</th>\n",
       "    </tr>\n",
       "  </thead>\n",
       "  <tbody>\n",
       "    <tr>\n",
       "      <th>8</th>\n",
       "      <td>10011</td>\n",
       "      <td>Rakesh S</td>\n",
       "      <td>Agra</td>\n",
       "      <td>170000</td>\n",
       "      <td>124695.5</td>\n",
       "      <td>0.733503</td>\n",
       "    </tr>\n",
       "    <tr>\n",
       "      <th>3</th>\n",
       "      <td>10012</td>\n",
       "      <td>Kalpana K</td>\n",
       "      <td>Amritsar</td>\n",
       "      <td>200000</td>\n",
       "      <td>216948.0</td>\n",
       "      <td>1.084740</td>\n",
       "    </tr>\n",
       "    <tr>\n",
       "      <th>4</th>\n",
       "      <td>10013</td>\n",
       "      <td>Ram S</td>\n",
       "      <td>Chandigarh</td>\n",
       "      <td>225000</td>\n",
       "      <td>241285.5</td>\n",
       "      <td>1.072380</td>\n",
       "    </tr>\n",
       "    <tr>\n",
       "      <th>6</th>\n",
       "      <td>10014</td>\n",
       "      <td>Taran S</td>\n",
       "      <td>Durgapur</td>\n",
       "      <td>170000</td>\n",
       "      <td>173087.5</td>\n",
       "      <td>1.018162</td>\n",
       "    </tr>\n",
       "    <tr>\n",
       "      <th>0</th>\n",
       "      <td>10015</td>\n",
       "      <td>Rahul S</td>\n",
       "      <td>Gangtok</td>\n",
       "      <td>235000</td>\n",
       "      <td>1002223.5</td>\n",
       "      <td>4.264781</td>\n",
       "    </tr>\n",
       "    <tr>\n",
       "      <th>5</th>\n",
       "      <td>10016</td>\n",
       "      <td>Kirti S</td>\n",
       "      <td>Goa</td>\n",
       "      <td>145000</td>\n",
       "      <td>162732.0</td>\n",
       "      <td>1.122290</td>\n",
       "    </tr>\n",
       "    <tr>\n",
       "      <th>2</th>\n",
       "      <td>10017</td>\n",
       "      <td>Vishwa P</td>\n",
       "      <td>Mumbai</td>\n",
       "      <td>190000</td>\n",
       "      <td>231673.5</td>\n",
       "      <td>1.219334</td>\n",
       "    </tr>\n",
       "    <tr>\n",
       "      <th>9</th>\n",
       "      <td>10018</td>\n",
       "      <td>Ankit J</td>\n",
       "      <td>Chennai</td>\n",
       "      <td>180000</td>\n",
       "      <td>126104.0</td>\n",
       "      <td>0.700578</td>\n",
       "    </tr>\n",
       "    <tr>\n",
       "      <th>1</th>\n",
       "      <td>10019</td>\n",
       "      <td>Kirti S</td>\n",
       "      <td>Coimbatore</td>\n",
       "      <td>160000</td>\n",
       "      <td>226131.0</td>\n",
       "      <td>1.413319</td>\n",
       "    </tr>\n",
       "    <tr>\n",
       "      <th>7</th>\n",
       "      <td>10020</td>\n",
       "      <td>Abhishek S</td>\n",
       "      <td>Hyderabad</td>\n",
       "      <td>250000</td>\n",
       "      <td>211652.0</td>\n",
       "      <td>0.846608</td>\n",
       "    </tr>\n",
       "  </tbody>\n",
       "</table>\n",
       "</div>"
      ],
      "text/plain": [
       "   Manager ID Manager Name         City  Q3 - 2020 Goals (SU)  total_sales  \\\n",
       "8       10011     Rakesh S         Agra                170000     124695.5   \n",
       "3       10012    Kalpana K     Amritsar                200000     216948.0   \n",
       "4       10013        Ram S   Chandigarh                225000     241285.5   \n",
       "6       10014      Taran S    Durgapur                 170000     173087.5   \n",
       "0       10015      Rahul S      Gangtok                235000    1002223.5   \n",
       "5       10016      Kirti S          Goa                145000     162732.0   \n",
       "2       10017     Vishwa P       Mumbai                190000     231673.5   \n",
       "9       10018      Ankit J     Chennai                 180000     126104.0   \n",
       "1       10019      Kirti S  Coimbatore                 160000     226131.0   \n",
       "7       10020   Abhishek S    Hyderabad                250000     211652.0   \n",
       "\n",
       "     X_time  \n",
       "8  0.733503  \n",
       "3  1.084740  \n",
       "4  1.072380  \n",
       "6  1.018162  \n",
       "0  4.264781  \n",
       "5  1.122290  \n",
       "2  1.219334  \n",
       "9  0.700578  \n",
       "1  1.413319  \n",
       "7  0.846608  "
      ]
     },
     "execution_count": 673,
     "metadata": {},
     "output_type": "execute_result"
    }
   ],
   "source": [
    "df_Q1_Inc"
   ]
  },
  {
   "cell_type": "code",
   "execution_count": 674,
   "metadata": {},
   "outputs": [],
   "source": [
    "bonus = []\n",
    "for i in df_Q1_Inc['X_time']:\n",
    "    p = 0\n",
    "    for j in range(15):\n",
    "        if i >= df_Q1_1['Attainment'][j]:\n",
    "            p = df_Q1_1['Payout'][j]\n",
    "        else:\n",
    "            bonus.append(p)\n",
    "            break\n",
    "        \n",
    "df_Q1_Inc['payout'] = bonus"
   ]
  },
  {
   "cell_type": "markdown",
   "metadata": {},
   "source": []
  },
  {
   "cell_type": "code",
   "execution_count": 675,
   "metadata": {},
   "outputs": [
    {
     "data": {
      "text/html": [
       "<div>\n",
       "<style scoped>\n",
       "    .dataframe tbody tr th:only-of-type {\n",
       "        vertical-align: middle;\n",
       "    }\n",
       "\n",
       "    .dataframe tbody tr th {\n",
       "        vertical-align: top;\n",
       "    }\n",
       "\n",
       "    .dataframe thead th {\n",
       "        text-align: right;\n",
       "    }\n",
       "</style>\n",
       "<table border=\"1\" class=\"dataframe\">\n",
       "  <thead>\n",
       "    <tr style=\"text-align: right;\">\n",
       "      <th></th>\n",
       "      <th>Manager ID</th>\n",
       "      <th>Manager Name</th>\n",
       "      <th>City</th>\n",
       "      <th>Q3 - 2020 Goals (SU)</th>\n",
       "      <th>total_sales</th>\n",
       "      <th>X_time</th>\n",
       "      <th>payout</th>\n",
       "    </tr>\n",
       "  </thead>\n",
       "  <tbody>\n",
       "    <tr>\n",
       "      <th>8</th>\n",
       "      <td>10011</td>\n",
       "      <td>Rakesh S</td>\n",
       "      <td>Agra</td>\n",
       "      <td>170000</td>\n",
       "      <td>124695.5</td>\n",
       "      <td>0.733503</td>\n",
       "      <td>0.20</td>\n",
       "    </tr>\n",
       "    <tr>\n",
       "      <th>3</th>\n",
       "      <td>10012</td>\n",
       "      <td>Kalpana K</td>\n",
       "      <td>Amritsar</td>\n",
       "      <td>200000</td>\n",
       "      <td>216948.0</td>\n",
       "      <td>1.084740</td>\n",
       "      <td>1.00</td>\n",
       "    </tr>\n",
       "    <tr>\n",
       "      <th>4</th>\n",
       "      <td>10013</td>\n",
       "      <td>Ram S</td>\n",
       "      <td>Chandigarh</td>\n",
       "      <td>225000</td>\n",
       "      <td>241285.5</td>\n",
       "      <td>1.072380</td>\n",
       "      <td>1.00</td>\n",
       "    </tr>\n",
       "    <tr>\n",
       "      <th>6</th>\n",
       "      <td>10014</td>\n",
       "      <td>Taran S</td>\n",
       "      <td>Durgapur</td>\n",
       "      <td>170000</td>\n",
       "      <td>173087.5</td>\n",
       "      <td>1.018162</td>\n",
       "      <td>1.00</td>\n",
       "    </tr>\n",
       "    <tr>\n",
       "      <th>0</th>\n",
       "      <td>10015</td>\n",
       "      <td>Rahul S</td>\n",
       "      <td>Gangtok</td>\n",
       "      <td>235000</td>\n",
       "      <td>1002223.5</td>\n",
       "      <td>4.264781</td>\n",
       "      <td>3.13</td>\n",
       "    </tr>\n",
       "    <tr>\n",
       "      <th>5</th>\n",
       "      <td>10016</td>\n",
       "      <td>Kirti S</td>\n",
       "      <td>Goa</td>\n",
       "      <td>145000</td>\n",
       "      <td>162732.0</td>\n",
       "      <td>1.122290</td>\n",
       "      <td>1.00</td>\n",
       "    </tr>\n",
       "    <tr>\n",
       "      <th>2</th>\n",
       "      <td>10017</td>\n",
       "      <td>Vishwa P</td>\n",
       "      <td>Mumbai</td>\n",
       "      <td>190000</td>\n",
       "      <td>231673.5</td>\n",
       "      <td>1.219334</td>\n",
       "      <td>1.00</td>\n",
       "    </tr>\n",
       "    <tr>\n",
       "      <th>9</th>\n",
       "      <td>10018</td>\n",
       "      <td>Ankit J</td>\n",
       "      <td>Chennai</td>\n",
       "      <td>180000</td>\n",
       "      <td>126104.0</td>\n",
       "      <td>0.700578</td>\n",
       "      <td>0.20</td>\n",
       "    </tr>\n",
       "    <tr>\n",
       "      <th>1</th>\n",
       "      <td>10019</td>\n",
       "      <td>Kirti S</td>\n",
       "      <td>Coimbatore</td>\n",
       "      <td>160000</td>\n",
       "      <td>226131.0</td>\n",
       "      <td>1.413319</td>\n",
       "      <td>1.00</td>\n",
       "    </tr>\n",
       "    <tr>\n",
       "      <th>7</th>\n",
       "      <td>10020</td>\n",
       "      <td>Abhishek S</td>\n",
       "      <td>Hyderabad</td>\n",
       "      <td>250000</td>\n",
       "      <td>211652.0</td>\n",
       "      <td>0.846608</td>\n",
       "      <td>0.40</td>\n",
       "    </tr>\n",
       "  </tbody>\n",
       "</table>\n",
       "</div>"
      ],
      "text/plain": [
       "   Manager ID Manager Name         City  Q3 - 2020 Goals (SU)  total_sales  \\\n",
       "8       10011     Rakesh S         Agra                170000     124695.5   \n",
       "3       10012    Kalpana K     Amritsar                200000     216948.0   \n",
       "4       10013        Ram S   Chandigarh                225000     241285.5   \n",
       "6       10014      Taran S    Durgapur                 170000     173087.5   \n",
       "0       10015      Rahul S      Gangtok                235000    1002223.5   \n",
       "5       10016      Kirti S          Goa                145000     162732.0   \n",
       "2       10017     Vishwa P       Mumbai                190000     231673.5   \n",
       "9       10018      Ankit J     Chennai                 180000     126104.0   \n",
       "1       10019      Kirti S  Coimbatore                 160000     226131.0   \n",
       "7       10020   Abhishek S    Hyderabad                250000     211652.0   \n",
       "\n",
       "     X_time  payout  \n",
       "8  0.733503    0.20  \n",
       "3  1.084740    1.00  \n",
       "4  1.072380    1.00  \n",
       "6  1.018162    1.00  \n",
       "0  4.264781    3.13  \n",
       "5  1.122290    1.00  \n",
       "2  1.219334    1.00  \n",
       "9  0.700578    0.20  \n",
       "1  1.413319    1.00  \n",
       "7  0.846608    0.40  "
      ]
     },
     "execution_count": 675,
     "metadata": {},
     "output_type": "execute_result"
    }
   ],
   "source": [
    "df_Q1_Inc"
   ]
  },
  {
   "cell_type": "code",
   "execution_count": 679,
   "metadata": {},
   "outputs": [],
   "source": [
    "df_Q1_Inc['bonus'] = df_Q1_Inc['payout']-1"
   ]
  },
  {
   "cell_type": "code",
   "execution_count": 681,
   "metadata": {},
   "outputs": [
    {
     "name": "stdout",
     "output_type": "stream",
     "text": [
      "[-0.8, 0.0, 0.0, 0.0, 2.13, 0.0, 0.0, -0.8, 0.0, -0.6]\n"
     ]
    }
   ],
   "source": [
    "print([i for i in df_Q1_Inc['bonus']])"
   ]
  },
  {
   "cell_type": "code",
   "execution_count": 678,
   "metadata": {},
   "outputs": [
    {
     "data": {
      "text/html": [
       "<div>\n",
       "<style scoped>\n",
       "    .dataframe tbody tr th:only-of-type {\n",
       "        vertical-align: middle;\n",
       "    }\n",
       "\n",
       "    .dataframe tbody tr th {\n",
       "        vertical-align: top;\n",
       "    }\n",
       "\n",
       "    .dataframe thead th {\n",
       "        text-align: right;\n",
       "    }\n",
       "</style>\n",
       "<table border=\"1\" class=\"dataframe\">\n",
       "  <thead>\n",
       "    <tr style=\"text-align: right;\">\n",
       "      <th></th>\n",
       "      <th>Manager ID</th>\n",
       "      <th>Manager Name</th>\n",
       "      <th>City</th>\n",
       "      <th>Q3 - 2020 Goals (SU)</th>\n",
       "      <th>total_sales</th>\n",
       "      <th>X_time</th>\n",
       "      <th>payout</th>\n",
       "      <th>bonus</th>\n",
       "    </tr>\n",
       "  </thead>\n",
       "  <tbody>\n",
       "    <tr>\n",
       "      <th>8</th>\n",
       "      <td>10011</td>\n",
       "      <td>Rakesh S</td>\n",
       "      <td>Agra</td>\n",
       "      <td>170000</td>\n",
       "      <td>124695.5</td>\n",
       "      <td>0.733503</td>\n",
       "      <td>0.20</td>\n",
       "      <td>-0.80</td>\n",
       "    </tr>\n",
       "    <tr>\n",
       "      <th>3</th>\n",
       "      <td>10012</td>\n",
       "      <td>Kalpana K</td>\n",
       "      <td>Amritsar</td>\n",
       "      <td>200000</td>\n",
       "      <td>216948.0</td>\n",
       "      <td>1.084740</td>\n",
       "      <td>1.00</td>\n",
       "      <td>0.00</td>\n",
       "    </tr>\n",
       "    <tr>\n",
       "      <th>4</th>\n",
       "      <td>10013</td>\n",
       "      <td>Ram S</td>\n",
       "      <td>Chandigarh</td>\n",
       "      <td>225000</td>\n",
       "      <td>241285.5</td>\n",
       "      <td>1.072380</td>\n",
       "      <td>1.00</td>\n",
       "      <td>0.00</td>\n",
       "    </tr>\n",
       "    <tr>\n",
       "      <th>6</th>\n",
       "      <td>10014</td>\n",
       "      <td>Taran S</td>\n",
       "      <td>Durgapur</td>\n",
       "      <td>170000</td>\n",
       "      <td>173087.5</td>\n",
       "      <td>1.018162</td>\n",
       "      <td>1.00</td>\n",
       "      <td>0.00</td>\n",
       "    </tr>\n",
       "    <tr>\n",
       "      <th>0</th>\n",
       "      <td>10015</td>\n",
       "      <td>Rahul S</td>\n",
       "      <td>Gangtok</td>\n",
       "      <td>235000</td>\n",
       "      <td>1002223.5</td>\n",
       "      <td>4.264781</td>\n",
       "      <td>3.13</td>\n",
       "      <td>2.13</td>\n",
       "    </tr>\n",
       "    <tr>\n",
       "      <th>5</th>\n",
       "      <td>10016</td>\n",
       "      <td>Kirti S</td>\n",
       "      <td>Goa</td>\n",
       "      <td>145000</td>\n",
       "      <td>162732.0</td>\n",
       "      <td>1.122290</td>\n",
       "      <td>1.00</td>\n",
       "      <td>0.00</td>\n",
       "    </tr>\n",
       "    <tr>\n",
       "      <th>2</th>\n",
       "      <td>10017</td>\n",
       "      <td>Vishwa P</td>\n",
       "      <td>Mumbai</td>\n",
       "      <td>190000</td>\n",
       "      <td>231673.5</td>\n",
       "      <td>1.219334</td>\n",
       "      <td>1.00</td>\n",
       "      <td>0.00</td>\n",
       "    </tr>\n",
       "    <tr>\n",
       "      <th>9</th>\n",
       "      <td>10018</td>\n",
       "      <td>Ankit J</td>\n",
       "      <td>Chennai</td>\n",
       "      <td>180000</td>\n",
       "      <td>126104.0</td>\n",
       "      <td>0.700578</td>\n",
       "      <td>0.20</td>\n",
       "      <td>-0.80</td>\n",
       "    </tr>\n",
       "    <tr>\n",
       "      <th>1</th>\n",
       "      <td>10019</td>\n",
       "      <td>Kirti S</td>\n",
       "      <td>Coimbatore</td>\n",
       "      <td>160000</td>\n",
       "      <td>226131.0</td>\n",
       "      <td>1.413319</td>\n",
       "      <td>1.00</td>\n",
       "      <td>0.00</td>\n",
       "    </tr>\n",
       "    <tr>\n",
       "      <th>7</th>\n",
       "      <td>10020</td>\n",
       "      <td>Abhishek S</td>\n",
       "      <td>Hyderabad</td>\n",
       "      <td>250000</td>\n",
       "      <td>211652.0</td>\n",
       "      <td>0.846608</td>\n",
       "      <td>0.40</td>\n",
       "      <td>-0.60</td>\n",
       "    </tr>\n",
       "  </tbody>\n",
       "</table>\n",
       "</div>"
      ],
      "text/plain": [
       "   Manager ID Manager Name         City  Q3 - 2020 Goals (SU)  total_sales  \\\n",
       "8       10011     Rakesh S         Agra                170000     124695.5   \n",
       "3       10012    Kalpana K     Amritsar                200000     216948.0   \n",
       "4       10013        Ram S   Chandigarh                225000     241285.5   \n",
       "6       10014      Taran S    Durgapur                 170000     173087.5   \n",
       "0       10015      Rahul S      Gangtok                235000    1002223.5   \n",
       "5       10016      Kirti S          Goa                145000     162732.0   \n",
       "2       10017     Vishwa P       Mumbai                190000     231673.5   \n",
       "9       10018      Ankit J     Chennai                 180000     126104.0   \n",
       "1       10019      Kirti S  Coimbatore                 160000     226131.0   \n",
       "7       10020   Abhishek S    Hyderabad                250000     211652.0   \n",
       "\n",
       "     X_time  payout  bonus  \n",
       "8  0.733503    0.20  -0.80  \n",
       "3  1.084740    1.00   0.00  \n",
       "4  1.072380    1.00   0.00  \n",
       "6  1.018162    1.00   0.00  \n",
       "0  4.264781    3.13   2.13  \n",
       "5  1.122290    1.00   0.00  \n",
       "2  1.219334    1.00   0.00  \n",
       "9  0.700578    0.20  -0.80  \n",
       "1  1.413319    1.00   0.00  \n",
       "7  0.846608    0.40  -0.60  "
      ]
     },
     "execution_count": 678,
     "metadata": {},
     "output_type": "execute_result"
    }
   ],
   "source": [
    "df_Q1_Inc"
   ]
  },
  {
   "cell_type": "code",
   "execution_count": 454,
   "metadata": {},
   "outputs": [
    {
     "data": {
      "text/plain": [
       "21300.0"
      ]
     },
     "execution_count": 454,
     "metadata": {},
     "output_type": "execute_result"
    }
   ],
   "source": [
    "2.13 * 10000"
   ]
  },
  {
   "cell_type": "code",
   "execution_count": 688,
   "metadata": {},
   "outputs": [
    {
     "name": "stderr",
     "output_type": "stream",
     "text": [
      "<ipython-input-688-3dbaa65f4a6e>:1: SettingWithCopyWarning: \n",
      "A value is trying to be set on a copy of a slice from a DataFrame\n",
      "\n",
      "See the caveats in the documentation: https://pandas.pydata.org/pandas-docs/stable/user_guide/indexing.html#returning-a-view-versus-a-copy\n",
      "  df_Q1_Inc['total_sales'][9] = format(df_Q1_Inc['total_sales'][9],'.2f')\n"
     ]
    }
   ],
   "source": [
    "df_Q1_Inc['total_sales'][9] = format(df_Q1_Inc['total_sales'][9],'.2f')"
   ]
  },
  {
   "cell_type": "markdown",
   "metadata": {},
   "source": [
    "#  Scenario 2 : Q2.3"
   ]
  },
  {
   "cell_type": "code",
   "execution_count": 689,
   "metadata": {},
   "outputs": [],
   "source": [
    "df_Q1_Inc['X_time'] = df_Q1_Inc['X_time']/0.85 "
   ]
  },
  {
   "cell_type": "code",
   "execution_count": 690,
   "metadata": {},
   "outputs": [],
   "source": [
    "bonus = []\n",
    "for i in df_Q1_Inc['X_time']:\n",
    "    p = 0\n",
    "    for j in range(15):\n",
    "        if i >= df_Q1_1['Attainment'][j]:\n",
    "            p = df_Q1_1['Payout'][j]\n",
    "        else:\n",
    "            bonus.append(p)\n",
    "            break\n",
    "        \n",
    "df_Q1_Inc['bonus'] = bonus"
   ]
  },
  {
   "cell_type": "code",
   "execution_count": 692,
   "metadata": {},
   "outputs": [
    {
     "data": {
      "text/plain": [
       "Manager ID                   10020\n",
       "Manager Name            Abhishek S\n",
       "City                     Hyderabad\n",
       "Q3 - 2020 Goals (SU)        250000\n",
       "total_sales                 211652\n",
       "X_time                    0.996009\n",
       "payout                         0.4\n",
       "bonus                         0.65\n",
       "Name: 7, dtype: object"
      ]
     },
     "execution_count": 692,
     "metadata": {},
     "output_type": "execute_result"
    }
   ],
   "source": [
    "df_Q1_Inc.iloc[9]"
   ]
  },
  {
   "cell_type": "code",
   "execution_count": 693,
   "metadata": {},
   "outputs": [
    {
     "name": "stdout",
     "output_type": "stream",
     "text": [
      "Payout Changed to 0.4 from 0.2 After updation of Sales in Chennai\n"
     ]
    }
   ],
   "source": [
    "print('Payout Changed to 0.4 from 0.2 After updation of Sales in Chennai')"
   ]
  },
  {
   "cell_type": "code",
   "execution_count": null,
   "metadata": {},
   "outputs": [],
   "source": []
  }
 ],
 "metadata": {
  "kernelspec": {
   "display_name": "Python 3",
   "language": "python",
   "name": "python3"
  },
  "language_info": {
   "codemirror_mode": {
    "name": "ipython",
    "version": 3
   },
   "file_extension": ".py",
   "mimetype": "text/x-python",
   "name": "python",
   "nbconvert_exporter": "python",
   "pygments_lexer": "ipython3",
   "version": "3.7.10"
  }
 },
 "nbformat": 4,
 "nbformat_minor": 4
}
