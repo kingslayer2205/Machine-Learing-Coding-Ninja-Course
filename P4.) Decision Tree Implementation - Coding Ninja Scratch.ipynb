{
 "cells": [
  {
   "cell_type": "markdown",
   "metadata": {},
   "source": [
    "# Importing Libararies"
   ]
  },
  {
   "cell_type": "code",
   "execution_count": 73,
   "metadata": {},
   "outputs": [],
   "source": [
    "import numpy as np\n",
    "import pandas as pd\n",
    "from sklearn import datasets\n",
    "import matplotlib.pyplot as plt\n",
    "import seaborn as sns\n",
    "%matplotlib inline\n",
    "\n",
    "import random\n",
    "from pprint import pprint"
   ]
  },
  {
   "cell_type": "markdown",
   "metadata": {},
   "source": [
    "# Load Data"
   ]
  },
  {
   "cell_type": "code",
   "execution_count": 13,
   "metadata": {},
   "outputs": [],
   "source": [
    "iris = datasets.load_iris()\n",
    "# Converting Data to DataFrame and arranging\n",
    "df = pd.DataFrame(iris.data , columns = iris.feature_names)\n",
    "df['target'] = iris.target\n",
    "df_latest = iris.target_names[df.target]\n",
    "df.target = df_latest "
   ]
  },
  {
   "cell_type": "code",
   "execution_count": 14,
   "metadata": {},
   "outputs": [
    {
     "data": {
      "text/html": [
       "<div>\n",
       "<style scoped>\n",
       "    .dataframe tbody tr th:only-of-type {\n",
       "        vertical-align: middle;\n",
       "    }\n",
       "\n",
       "    .dataframe tbody tr th {\n",
       "        vertical-align: top;\n",
       "    }\n",
       "\n",
       "    .dataframe thead th {\n",
       "        text-align: right;\n",
       "    }\n",
       "</style>\n",
       "<table border=\"1\" class=\"dataframe\">\n",
       "  <thead>\n",
       "    <tr style=\"text-align: right;\">\n",
       "      <th></th>\n",
       "      <th>sepal length (cm)</th>\n",
       "      <th>sepal width (cm)</th>\n",
       "      <th>petal length (cm)</th>\n",
       "      <th>petal width (cm)</th>\n",
       "      <th>target</th>\n",
       "    </tr>\n",
       "  </thead>\n",
       "  <tbody>\n",
       "    <tr>\n",
       "      <th>0</th>\n",
       "      <td>5.1</td>\n",
       "      <td>3.5</td>\n",
       "      <td>1.4</td>\n",
       "      <td>0.2</td>\n",
       "      <td>setosa</td>\n",
       "    </tr>\n",
       "    <tr>\n",
       "      <th>1</th>\n",
       "      <td>4.9</td>\n",
       "      <td>3.0</td>\n",
       "      <td>1.4</td>\n",
       "      <td>0.2</td>\n",
       "      <td>setosa</td>\n",
       "    </tr>\n",
       "    <tr>\n",
       "      <th>2</th>\n",
       "      <td>4.7</td>\n",
       "      <td>3.2</td>\n",
       "      <td>1.3</td>\n",
       "      <td>0.2</td>\n",
       "      <td>setosa</td>\n",
       "    </tr>\n",
       "    <tr>\n",
       "      <th>3</th>\n",
       "      <td>4.6</td>\n",
       "      <td>3.1</td>\n",
       "      <td>1.5</td>\n",
       "      <td>0.2</td>\n",
       "      <td>setosa</td>\n",
       "    </tr>\n",
       "    <tr>\n",
       "      <th>4</th>\n",
       "      <td>5.0</td>\n",
       "      <td>3.6</td>\n",
       "      <td>1.4</td>\n",
       "      <td>0.2</td>\n",
       "      <td>setosa</td>\n",
       "    </tr>\n",
       "  </tbody>\n",
       "</table>\n",
       "</div>"
      ],
      "text/plain": [
       "   sepal length (cm)  sepal width (cm)  petal length (cm)  petal width (cm)  \\\n",
       "0                5.1               3.5                1.4               0.2   \n",
       "1                4.9               3.0                1.4               0.2   \n",
       "2                4.7               3.2                1.3               0.2   \n",
       "3                4.6               3.1                1.5               0.2   \n",
       "4                5.0               3.6                1.4               0.2   \n",
       "\n",
       "   target  \n",
       "0  setosa  \n",
       "1  setosa  \n",
       "2  setosa  \n",
       "3  setosa  \n",
       "4  setosa  "
      ]
     },
     "execution_count": 14,
     "metadata": {},
     "output_type": "execute_result"
    }
   ],
   "source": [
    "df.head()"
   ]
  },
  {
   "cell_type": "markdown",
   "metadata": {},
   "source": [
    "# Train-Test-Split"
   ]
  },
  {
   "cell_type": "code",
   "execution_count": 15,
   "metadata": {},
   "outputs": [],
   "source": [
    "def train_test_split(df , test_size):\n",
    "    # converting pandas to list \n",
    "    indices = df.index.tolist()\n",
    "    # generating random sample\n",
    "    test_indices = random.sample(population=indices , k= test_size)\n",
    "    test_df = df.loc[test_indices]\n",
    "    train_df = df.drop(test_indices)\n",
    "    return train_df , test_df"
   ]
  },
  {
   "cell_type": "code",
   "execution_count": 16,
   "metadata": {},
   "outputs": [],
   "source": [
    "# for same random sample\n",
    "random.seed(0)\n",
    "train_df , test_df = train_test_split(df , 20)"
   ]
  },
  {
   "cell_type": "markdown",
   "metadata": {},
   "source": [
    "# Functions For Decision Tree"
   ]
  },
  {
   "cell_type": "code",
   "execution_count": 21,
   "metadata": {},
   "outputs": [
    {
     "data": {
      "text/plain": [
       "array([[5.1, 3.5, 1.4, 0.2, 'setosa'],\n",
       "       [4.9, 3.0, 1.4, 0.2, 'setosa'],\n",
       "       [4.7, 3.2, 1.3, 0.2, 'setosa'],\n",
       "       [4.6, 3.1, 1.5, 0.2, 'setosa'],\n",
       "       [5.0, 3.6, 1.4, 0.2, 'setosa']], dtype=object)"
      ]
     },
     "execution_count": 21,
     "metadata": {},
     "output_type": "execute_result"
    }
   ],
   "source": [
    "# pandas to numpy\n",
    "data = train_df.values\n",
    "data[:5]"
   ]
  },
  {
   "cell_type": "code",
   "execution_count": 23,
   "metadata": {},
   "outputs": [],
   "source": [
    "# Function to check wheather data is pure/not\n",
    "def pure_node(data):\n",
    "    target = data[:,-1]\n",
    "    target = np.unique(target)\n",
    "    if(len(target) == 1):\n",
    "        return True\n",
    "    else:\n",
    "        return False"
   ]
  },
  {
   "cell_type": "code",
   "execution_count": 28,
   "metadata": {},
   "outputs": [],
   "source": [
    "def classify_data(data):\n",
    "    target = data[:,-1]\n",
    "    # return all unique classes and thier count\n",
    "    unique_class , count = np.unique(target , return_counts = True)\n",
    "    \n",
    "    # Returns the index of class whith max count\n",
    "    index = count.argmax()\n",
    "    classificaion = unique_class[index]\n",
    "    # returning the class with max count\n",
    "    return classificaion"
   ]
  },
  {
   "cell_type": "code",
   "execution_count": 51,
   "metadata": {},
   "outputs": [
    {
     "data": {
      "text/plain": [
       "'setosa'"
      ]
     },
     "execution_count": 51,
     "metadata": {},
     "output_type": "execute_result"
    }
   ],
   "source": [
    "classify_data(data)"
   ]
  },
  {
   "cell_type": "code",
   "execution_count": null,
   "metadata": {},
   "outputs": [],
   "source": []
  },
  {
   "cell_type": "markdown",
   "metadata": {},
   "source": [
    "### Potential split"
   ]
  },
  {
   "cell_type": "code",
   "execution_count": 13,
   "metadata": {},
   "outputs": [],
   "source": []
  },
  {
   "cell_type": "code",
   "execution_count": 41,
   "metadata": {},
   "outputs": [],
   "source": [
    "# finding all the potential splits among all the feature columns and thier data values\n",
    "def potential_split(data):\n",
    "    split = {}\n",
    "    row, col = data.shape \n",
    "    for col_index in range(col -1):\n",
    "        split[col_index] = []\n",
    "        val = data[:,col_index]\n",
    "        unique_val = np.unique(val)\n",
    "        \n",
    "        for index in range(len(unique_val)):\n",
    "            if index!=0:\n",
    "                curr_val = unique_val[index]\n",
    "                prev_val = unique_val[index-1]\n",
    "                # Collecting the midpoints of the Occuring Value\n",
    "                split_val = round((curr_val + prev_val)/2 , 2)\n",
    "                split[col_index].append(split_val)\n",
    "    return split"
   ]
  },
  {
   "cell_type": "code",
   "execution_count": 42,
   "metadata": {},
   "outputs": [
    {
     "data": {
      "text/plain": [
       "{0: [4.35,\n",
       "  4.45,\n",
       "  4.55,\n",
       "  4.65,\n",
       "  4.75,\n",
       "  4.85,\n",
       "  4.95,\n",
       "  5.05,\n",
       "  5.15,\n",
       "  5.25,\n",
       "  5.35,\n",
       "  5.45,\n",
       "  5.55,\n",
       "  5.65,\n",
       "  5.75,\n",
       "  5.85,\n",
       "  5.95,\n",
       "  6.05,\n",
       "  6.15,\n",
       "  6.25,\n",
       "  6.35,\n",
       "  6.45,\n",
       "  6.55,\n",
       "  6.65,\n",
       "  6.75,\n",
       "  6.85,\n",
       "  6.95,\n",
       "  7.05,\n",
       "  7.15,\n",
       "  7.4,\n",
       "  7.65,\n",
       "  7.8],\n",
       " 1: [2.1,\n",
       "  2.25,\n",
       "  2.35,\n",
       "  2.45,\n",
       "  2.55,\n",
       "  2.65,\n",
       "  2.75,\n",
       "  2.85,\n",
       "  2.95,\n",
       "  3.05,\n",
       "  3.15,\n",
       "  3.25,\n",
       "  3.35,\n",
       "  3.45,\n",
       "  3.55,\n",
       "  3.65,\n",
       "  3.75,\n",
       "  3.85,\n",
       "  3.95,\n",
       "  4.05,\n",
       "  4.15,\n",
       "  4.3],\n",
       " 2: [1.05,\n",
       "  1.15,\n",
       "  1.25,\n",
       "  1.35,\n",
       "  1.45,\n",
       "  1.55,\n",
       "  1.65,\n",
       "  1.8,\n",
       "  2.6,\n",
       "  3.4,\n",
       "  3.6,\n",
       "  3.75,\n",
       "  3.85,\n",
       "  3.95,\n",
       "  4.05,\n",
       "  4.15,\n",
       "  4.25,\n",
       "  4.35,\n",
       "  4.45,\n",
       "  4.55,\n",
       "  4.65,\n",
       "  4.75,\n",
       "  4.85,\n",
       "  4.95,\n",
       "  5.05,\n",
       "  5.15,\n",
       "  5.25,\n",
       "  5.35,\n",
       "  5.45,\n",
       "  5.55,\n",
       "  5.65,\n",
       "  5.75,\n",
       "  5.85,\n",
       "  5.95,\n",
       "  6.05,\n",
       "  6.25,\n",
       "  6.5,\n",
       "  6.65,\n",
       "  6.8],\n",
       " 3: [0.15,\n",
       "  0.25,\n",
       "  0.35,\n",
       "  0.45,\n",
       "  0.55,\n",
       "  0.8,\n",
       "  1.05,\n",
       "  1.15,\n",
       "  1.25,\n",
       "  1.35,\n",
       "  1.45,\n",
       "  1.55,\n",
       "  1.65,\n",
       "  1.75,\n",
       "  1.85,\n",
       "  1.95,\n",
       "  2.05,\n",
       "  2.15,\n",
       "  2.25,\n",
       "  2.35,\n",
       "  2.45]}"
      ]
     },
     "execution_count": 42,
     "metadata": {},
     "output_type": "execute_result"
    }
   ],
   "source": [
    "potential_split(data)"
   ]
  },
  {
   "cell_type": "code",
   "execution_count": 43,
   "metadata": {},
   "outputs": [],
   "source": [
    "# Spliting Data using Given Feature column and the Split value of the feature column\n",
    "def split_data(data , split_col , split_val):\n",
    "    split_col_val = data[:,split_col]\n",
    "    data_below = data[split_col_val <= split_val]\n",
    "    data_above = data[split_col_val > split_val]\n",
    "    return data_below , data_above"
   ]
  },
  {
   "cell_type": "code",
   "execution_count": 45,
   "metadata": {},
   "outputs": [],
   "source": [
    "# Tesing Split-data\n",
    "split_col = 3\n",
    "split_val = 0.8\n",
    "below , above = split_data(data , split_col , split_val)"
   ]
  },
  {
   "cell_type": "code",
   "execution_count": 46,
   "metadata": {},
   "outputs": [
    {
     "data": {
      "text/plain": [
       "<matplotlib.collections.LineCollection at 0x270bcc2e3a0>"
      ]
     },
     "execution_count": 46,
     "metadata": {},
     "output_type": "execute_result"
    },
    {
     "data": {
      "image/png": "[encoded data removed]",
      "text/plain": [
       "<Figure size 360x360 with 1 Axes>"
      ]
     },
     "metadata": {
      "needs_background": "light"
     },
     "output_type": "display_data"
    }
   ],
   "source": [
    "# Visualising below and above data\n",
    "plotting_df = pd.DataFrame(data , columns = df.columns)\n",
    "sns.lmplot(data=plotting_df, x = \"petal width (cm)\" , y =\"petal length (cm)\", fit_reg = False)\n",
    "plt.vlines(x=split_val ,ymin=1,ymax=7 )"
   ]
  },
  {
   "cell_type": "markdown",
   "metadata": {},
   "source": [
    "### Entropy "
   ]
  },
  {
   "cell_type": "code",
   "execution_count": 53,
   "metadata": {},
   "outputs": [],
   "source": [
    "# Entropy Calucation - Formula => -sum(pi * log(pi))\n",
    "def calculate_entropy(data):\n",
    "    target = data[:,-1]\n",
    "    values , counts = np.unique(target , return_counts= True)\n",
    "    prob = counts / (counts.sum())\n",
    "    # Entropy Calculation\n",
    "    entropy = sum(prob * -np.log2(prob))\n",
    "    return entropy"
   ]
  },
  {
   "cell_type": "code",
   "execution_count": 56,
   "metadata": {},
   "outputs": [
    {
     "data": {
      "text/plain": [
       "1.5836100169358511"
      ]
     },
     "execution_count": 56,
     "metadata": {},
     "output_type": "execute_result"
    }
   ],
   "source": [
    "calculate_entropy(data)"
   ]
  },
  {
   "cell_type": "code",
   "execution_count": 62,
   "metadata": {},
   "outputs": [],
   "source": [
    "# Calculation Overall Entropy after Spliting the data \n",
    "# Overall_entropy = sum(Di/D * entropy(Di))\n",
    "def cal_overall_entropy(data_below , data_above):\n",
    "    n_data_points = len(data_above) + len(data_below)\n",
    "    p_above = len(data_above) / n_data_points\n",
    "    p_below = len(data_below) / n_data_points\n",
    "    # Calculating Overall Entropy\n",
    "    overall_entropy = (p_above * calculate_entropy(data_above)) + (p_below * calculate_entropy(data_below))\n",
    "    return overall_entropy"
   ]
  },
  {
   "cell_type": "code",
   "execution_count": 61,
   "metadata": {},
   "outputs": [
    {
     "data": {
      "text/plain": [
       "0.6461538461538462"
      ]
     },
     "execution_count": 61,
     "metadata": {},
     "output_type": "execute_result"
    }
   ],
   "source": [
    "cal_overall_entropy(below ,above)"
   ]
  },
  {
   "cell_type": "code",
   "execution_count": 64,
   "metadata": {},
   "outputs": [],
   "source": [
    "# Calculation Split Info\n",
    "# Split_info = sum(-Di * log(Di)) \n",
    "def cal_split_info(data_below , data_above):\n",
    "    len_total = len(data_below) + len(data_above)\n",
    "    p_below = len(data_below) / len_total\n",
    "    p_above = len(data_above) / len_total\n",
    "    # Calculating Split Info\n",
    "    split_info = (-p_below)* np.log2(p_below) + (-p_above)* np.log2(p_above)\n",
    "    return split_info"
   ]
  },
  {
   "cell_type": "code",
   "execution_count": 65,
   "metadata": {},
   "outputs": [
    {
     "data": {
      "text/plain": [
       "0.9374561707820048"
      ]
     },
     "execution_count": 65,
     "metadata": {},
     "output_type": "execute_result"
    }
   ],
   "source": [
    "cal_split_info(below , above)"
   ]
  },
  {
   "cell_type": "code",
   "execution_count": 69,
   "metadata": {},
   "outputs": [],
   "source": [
    "# Finding the best split using GAIN RATIO\n",
    "# GAIN RATIO = (Original_entropy - Curr_overall_entropy) / split_info \n",
    "def find_best_split_using_gain_ratio(data , split):\n",
    "    info_gain = 0\n",
    "    for col_index in split:\n",
    "        for val in split[col_index]:\n",
    "            # Spliting Data\n",
    "            data_below , data_above = split_data(data , col_index , val)\n",
    "            # Current_overall_entropy after Splitting\n",
    "            curr_overall_entropy = cal_overall_entropy(data_below , data_above)\n",
    "            # Root_entropy befor Splitting\n",
    "            root_entopy = calculate_entropy(data)\n",
    "            # Split_info on the Current Split\n",
    "            split_info = cal_split_info(data_below , data_above)\n",
    "            # Calculating the Gain Ratio\n",
    "            curr_info_gain = (root_entopy - curr_overall_entropy)/split_info\n",
    "            if info_gain <= curr_info_gain:\n",
    "                info_gain = curr_info_gain\n",
    "                best_split_col = col_index\n",
    "                best_split_val = val\n",
    "        \n",
    "    return best_split_col , best_split_val , round(info_gain,7)"
   ]
  },
  {
   "cell_type": "code",
   "execution_count": 70,
   "metadata": {},
   "outputs": [
    {
     "data": {
      "text/plain": [
       "(3, 0.8, 1.0)"
      ]
     },
     "execution_count": 70,
     "metadata": {},
     "output_type": "execute_result"
    }
   ],
   "source": [
    "find_best_split_using_gain_ratio(data,potential_split(data))"
   ]
  },
  {
   "cell_type": "markdown",
   "metadata": {},
   "source": [
    "# Decision Tree Steps Print"
   ]
  },
  {
   "cell_type": "code",
   "execution_count": 137,
   "metadata": {},
   "outputs": [],
   "source": [
    "# Decision Tree Steps Print\n",
    "# Level , Count , Current Entropy , Splitting on which Feature , Gain Ratio\n",
    "def decision_tree_steps(df,counter=0 , min_samples = 1 , max_depth =5):\n",
    "    \n",
    "    # data preparation\n",
    "    if counter == 0:\n",
    "        global col_header\n",
    "        col_header = df.columns\n",
    "        data = df.values\n",
    "    else:\n",
    "        data = df\n",
    "    \n",
    "    # Base case \n",
    "    # if data if pure or remaining data is less than given sample or reached a certain Depth\n",
    "    if (pure_node(data)) or (len(data) < min_samples) or (counter == max_depth):\n",
    "        # If required till a certain Depth\n",
    "        if((counter == max_depth) or (len(data) < min_samples)):\n",
    "            return\n",
    "        print('Level ',counter)\n",
    "        iris_name,iris_count = (np.unique(data[:,-1], return_counts= True))        \n",
    "        # Printing the Extracted Data\n",
    "        for i in range(len(iris_name)):\n",
    "            print('Count of ',iris_name[i], ' = ' , iris_count[i])\n",
    "        print('Current Entropy is =' ,calculate_entropy(data))\n",
    "        print('Reached leaf Node')\n",
    "        print()\n",
    "        \n",
    "    # recursive part if Not Base case\n",
    "    else:\n",
    "        # Printing the Extracted Data\n",
    "        print('Level ',counter)\n",
    "        iris_name,iris_count = (np.unique(data[:,-1], return_counts= True))        \n",
    "        for i in range(len(iris_name)):\n",
    "            print('Count of ',iris_name[i], ' = ' , iris_count[i])\n",
    "        print('Current Entropy is =' ,calculate_entropy(data))\n",
    "        \n",
    "        # Conter increment to know the Level or Max Depth\n",
    "        counter +=1\n",
    "        \n",
    "        # Calculating the Potential Split and storing in Split\n",
    "        split = potential_split(data)\n",
    "        # Finding the best Split using Gain Ratio\n",
    "        split_col , split_val , gain = find_best_split_using_gain_ratio(data , split)        \n",
    "        # Spliting Data using split_col and split_val extarcted above \n",
    "        below , above = split_data(data,split_col , split_val)\n",
    "        feature_name = col_header[split_col]\n",
    "        print('Splitting on feature' ,feature_name,'<=',split_val,'with gain ratio',gain )\n",
    "        print()\n",
    "        \n",
    "        # Recursive Call on the below and above Data\n",
    "        decision_tree_steps(below,counter,min_samples,max_depth)\n",
    "        decision_tree_steps(above,counter,min_samples,max_depth)\n",
    "        "
   ]
  },
  {
   "cell_type": "code",
   "execution_count": 138,
   "metadata": {},
   "outputs": [
    {
     "name": "stdout",
     "output_type": "stream",
     "text": [
      "Level  0\n",
      "Count of  setosa  =  50\n",
      "Count of  versicolor  =  50\n",
      "Count of  virginica  =  50\n",
      "Current Entropy is = 1.584962500721156\n",
      "Splitting on feature petal width (cm) <= 0.8 with gain ratio 1.0\n",
      "\n",
      "Level  1\n",
      "Count of  setosa  =  50\n",
      "Current Entropy is = 0.0\n",
      "Reached leaf Node\n",
      "\n",
      "Level  1\n",
      "Count of  versicolor  =  50\n",
      "Count of  virginica  =  50\n",
      "Current Entropy is = 1.0\n",
      "Splitting on feature petal width (cm) <= 1.75 with gain ratio 0.6933648\n",
      "\n",
      "Level  2\n",
      "Count of  versicolor  =  49\n",
      "Count of  virginica  =  5\n",
      "Current Entropy is = 0.44506485705083865\n",
      "Splitting on feature petal length (cm) <= 5.35 with gain ratio 0.6066178\n",
      "\n",
      "Level  3\n",
      "Count of  versicolor  =  49\n",
      "Count of  virginica  =  3\n",
      "Current Entropy is = 0.31821529768323314\n",
      "Splitting on feature petal length (cm) <= 4.95 with gain ratio 0.2720453\n",
      "\n",
      "Level  4\n",
      "Count of  versicolor  =  47\n",
      "Count of  virginica  =  1\n",
      "Current Entropy is = 0.1460942501201363\n",
      "Splitting on feature petal width (cm) <= 1.65 with gain ratio 1.0\n",
      "\n",
      "Level  4\n",
      "Count of  versicolor  =  2\n",
      "Count of  virginica  =  2\n",
      "Current Entropy is = 1.0\n",
      "Splitting on feature petal width (cm) <= 1.55 with gain ratio 1.0\n",
      "\n",
      "Level  3\n",
      "Count of  virginica  =  2\n",
      "Current Entropy is = 0.0\n",
      "Reached leaf Node\n",
      "\n",
      "Level  2\n",
      "Count of  versicolor  =  1\n",
      "Count of  virginica  =  45\n",
      "Current Entropy is = 0.15109697051711368\n",
      "Splitting on feature petal length (cm) <= 4.85 with gain ratio 0.2622302\n",
      "\n",
      "Level  3\n",
      "Count of  versicolor  =  1\n",
      "Count of  virginica  =  2\n",
      "Current Entropy is = 0.9182958340544896\n",
      "Splitting on feature sepal width (cm) <= 3.1 with gain ratio 1.0\n",
      "\n",
      "Level  4\n",
      "Count of  virginica  =  2\n",
      "Current Entropy is = 0.0\n",
      "Reached leaf Node\n",
      "\n",
      "Level  4\n",
      "Count of  versicolor  =  1\n",
      "Current Entropy is = 0.0\n",
      "Reached leaf Node\n",
      "\n",
      "Level  3\n",
      "Count of  virginica  =  43\n",
      "Current Entropy is = 0.0\n",
      "Reached leaf Node\n",
      "\n"
     ]
    }
   ],
   "source": [
    "decision_tree_steps(df)"
   ]
  },
  {
   "cell_type": "markdown",
   "metadata": {},
   "source": [
    "# Decision Tree Implementation"
   ]
  },
  {
   "cell_type": "code",
   "execution_count": 110,
   "metadata": {},
   "outputs": [],
   "source": [
    "# Decision Tree Implementation\n",
    "def decision_tree_alogo(df,counter=0 , min_samples = 2 , max_depth =5):\n",
    "    \n",
    "    # data preparation\n",
    "    if counter == 0:\n",
    "        global col_header\n",
    "        col_header = df.columns\n",
    "        data = df.values\n",
    "    else:\n",
    "        data = df\n",
    "    \n",
    "    # base case\n",
    "    if (pure_node(data)) or (len(data) < min_samples) or (counter == max_depth):\n",
    "        classification = classify_data(data)\n",
    "        return classification\n",
    "    \n",
    "    # recursive part Almost same As Coded above in Tree Steps Printing\n",
    "    else:\n",
    "        counter +=1\n",
    "        split = potential_split(data)\n",
    "        split_col , split_val,gain_ratio = find_best_split_using_gain_ratio(data ,split)\n",
    "        below , above = split_data(data,split_col , split_val)\n",
    "        t , counts = np.unique(data[:,-1] , return_counts= True) \n",
    "        \n",
    "        # subtree\n",
    "        feature_name = col_header[split_col]\n",
    "        quen = \"{} <= {} , gain={} , samples={} ,value={} \".format( feature_name, split_val,\n",
    "                                                                round(gain_ratio,7),len(data),counts)\n",
    "        sub_tree = {quen :[]}\n",
    "        \n",
    "        #find answer\n",
    "        yes_ans = decision_tree_alogo(below,counter,min_samples,max_depth)\n",
    "        no_ans = decision_tree_alogo(above,counter,min_samples,max_depth)\n",
    "        \n",
    "        if yes_ans == no_ans:\n",
    "            sub_tree = yes_ans\n",
    "        else:\n",
    "            sub_tree[quen].append(yes_ans)\n",
    "            sub_tree[quen].append(no_ans)\n",
    "        \n",
    "        return sub_tree"
   ]
  },
  {
   "cell_type": "code",
   "execution_count": 130,
   "metadata": {},
   "outputs": [
    {
     "name": "stdout",
     "output_type": "stream",
     "text": [
      "{'petal width (cm) <= 0.8 , gain=1.0 , samples=150 ,value=[50 50 50] ': ['setosa',\n",
      "                                                                         {'petal width (cm) <= 1.75 , gain=0.6933648 , samples=100 ,value=[50 50] ': [{'petal length (cm) <= 5.35 , gain=0.6066178 , samples=54 ,value=[49  5] ': [{'petal length (cm) <= 4.95 , gain=0.2720453 , samples=52 ,value=[49  3] ': [{'petal width (cm) <= 1.65 , gain=1.0 , samples=48 ,value=[47  1] ': ['versicolor',\n",
      "                                                                                                                                                                                                                                                                                                                                                                                      'virginica']},\n",
      "                                                                                                                                                                                                                                                                                                                {'petal width (cm) <= 1.55 , gain=1.0 , samples=4 ,value=[2 2] ': ['virginica',\n",
      "                                                                                                                                                                                                                                                                                                                                                                                   'versicolor']}]},\n",
      "                                                                                                                                                                                                                                   'virginica']},\n",
      "                                                                                                                                                      {'petal length (cm) <= 4.85 , gain=0.2622302 , samples=46 ,value=[ 1 45] ': [{'sepal width (cm) <= 3.1 , gain=1.0 , samples=3 ,value=[1 2] ': ['virginica',\n",
      "                                                                                                                                                                                                                                                                                                     'versicolor']},\n",
      "                                                                                                                                                                                                                                   'virginica']}]}]}\n"
     ]
    }
   ],
   "source": [
    "tree =decision_tree_alogo(df,max_depth = 5)\n",
    "pprint(tree)"
   ]
  },
  {
   "cell_type": "markdown",
   "metadata": {},
   "source": [
    "# Example : Confirmation Using OR"
   ]
  },
  {
   "cell_type": "code",
   "execution_count": 133,
   "metadata": {},
   "outputs": [
    {
     "data": {
      "text/html": [
       "<div>\n",
       "<style scoped>\n",
       "    .dataframe tbody tr th:only-of-type {\n",
       "        vertical-align: middle;\n",
       "    }\n",
       "\n",
       "    .dataframe tbody tr th {\n",
       "        vertical-align: top;\n",
       "    }\n",
       "\n",
       "    .dataframe thead th {\n",
       "        text-align: right;\n",
       "    }\n",
       "</style>\n",
       "<table border=\"1\" class=\"dataframe\">\n",
       "  <thead>\n",
       "    <tr style=\"text-align: right;\">\n",
       "      <th></th>\n",
       "      <th>x1</th>\n",
       "      <th>x2</th>\n",
       "      <th>y</th>\n",
       "    </tr>\n",
       "  </thead>\n",
       "  <tbody>\n",
       "    <tr>\n",
       "      <th>0</th>\n",
       "      <td>0</td>\n",
       "      <td>0</td>\n",
       "      <td>0</td>\n",
       "    </tr>\n",
       "    <tr>\n",
       "      <th>1</th>\n",
       "      <td>1</td>\n",
       "      <td>0</td>\n",
       "      <td>1</td>\n",
       "    </tr>\n",
       "    <tr>\n",
       "      <th>2</th>\n",
       "      <td>0</td>\n",
       "      <td>1</td>\n",
       "      <td>1</td>\n",
       "    </tr>\n",
       "    <tr>\n",
       "      <th>3</th>\n",
       "      <td>1</td>\n",
       "      <td>1</td>\n",
       "      <td>1</td>\n",
       "    </tr>\n",
       "  </tbody>\n",
       "</table>\n",
       "</div>"
      ],
      "text/plain": [
       "   x1  x2  y\n",
       "0   0   0  0\n",
       "1   1   0  1\n",
       "2   0   1  1\n",
       "3   1   1  1"
      ]
     },
     "execution_count": 133,
     "metadata": {},
     "output_type": "execute_result"
    }
   ],
   "source": [
    "or_data = np.array([[0,0,0],[1,0,1],[0,1,1],[1,1,1]])\n",
    "or_df = pd.DataFrame(or_data, columns = ['x1','x2','y'])\n",
    "or_df"
   ]
  },
  {
   "cell_type": "code",
   "execution_count": 139,
   "metadata": {},
   "outputs": [
    {
     "name": "stdout",
     "output_type": "stream",
     "text": [
      "Level  0\n",
      "Count of  0  =  1\n",
      "Count of  1  =  3\n",
      "Current Entropy is = 0.8112781244591328\n",
      "Splitting on feature x2 <= 0.5 with gain ratio 0.3112781\n",
      "\n",
      "Level  1\n",
      "Count of  0  =  1\n",
      "Count of  1  =  1\n",
      "Current Entropy is = 1.0\n",
      "Splitting on feature x1 <= 0.5 with gain ratio 1.0\n",
      "\n",
      "Level  2\n",
      "Count of  0  =  1\n",
      "Current Entropy is = 0.0\n",
      "Reached leaf Node\n",
      "\n",
      "Level  2\n",
      "Count of  1  =  1\n",
      "Current Entropy is = 0.0\n",
      "Reached leaf Node\n",
      "\n",
      "Level  1\n",
      "Count of  1  =  2\n",
      "Current Entropy is = 0.0\n",
      "Reached leaf Node\n",
      "\n"
     ]
    }
   ],
   "source": [
    "decision_tree_steps(or_df)"
   ]
  },
  {
   "cell_type": "code",
   "execution_count": 135,
   "metadata": {},
   "outputs": [
    {
     "name": "stdout",
     "output_type": "stream",
     "text": [
      "{'x2 <= 0.5 , gain=0.3112781 , samples=4 ,value=[1 3] ': [{'x1 <= 0.5 , gain=1.0 , samples=2 ,value=[1 1] ': [0,\n",
      "                                                                                                              1]},\n",
      "                                                          1]}\n"
     ]
    }
   ],
   "source": [
    "or_tree =decision_tree_alogo(or_df)\n",
    "pprint(or_tree)"
   ]
  }
 ],
 "metadata": {
  "kernelspec": {
   "display_name": "Python 3",
   "language": "python",
   "name": "python3"
  },
  "language_info": {
   "codemirror_mode": {
    "name": "ipython",
    "version": 3
   },
   "file_extension": ".py",
   "mimetype": "text/x-python",
   "name": "python",
   "nbconvert_exporter": "python",
   "pygments_lexer": "ipython3",
   "version": "3.7.10"
  }
 },
 "nbformat": 4,
 "nbformat_minor": 4
}
