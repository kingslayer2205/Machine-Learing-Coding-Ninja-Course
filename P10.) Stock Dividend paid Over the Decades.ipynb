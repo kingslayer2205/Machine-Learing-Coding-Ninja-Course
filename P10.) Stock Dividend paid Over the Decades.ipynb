{
 "cells": [
  {
   "cell_type": "markdown",
   "metadata": {},
   "source": [
    "# Divident Calculation"
   ]
  },
  {
   "cell_type": "code",
   "execution_count": 6,
   "metadata": {},
   "outputs": [
    {
     "data": {
      "text/plain": [
       "<Response [200]>"
      ]
     },
     "execution_count": 6,
     "metadata": {},
     "output_type": "execute_result"
    }
   ],
   "source": [
    "import requests as rq\n",
    "data = rq.get('https://www.moneycontrol.com/company-facts/infosys/dividends/IT#IT')\n",
    "data"
   ]
  },
  {
   "cell_type": "code",
   "execution_count": 169,
   "metadata": {},
   "outputs": [
    {
     "data": {
      "text/plain": [
       "<selenium.webdriver.chrome.webdriver.WebDriver (session=\"90f06d0fb422c9fa98592c65bd1fbebb\")>"
      ]
     },
     "execution_count": 169,
     "metadata": {},
     "output_type": "execute_result"
    }
   ],
   "source": [
    "import matplotlib.pyplot as plt\n",
    "from selenium import webdriver\n",
    "d = r'C:\\Users\\ASUS\\Downloads\\chromedriver'\n",
    "driver = webdriver.Chrome(executable_path = d)\n",
    "driver"
   ]
  },
  {
   "cell_type": "code",
   "execution_count": 196,
   "metadata": {},
   "outputs": [],
   "source": [
    "d = 'https://www.moneycontrol.com/company-facts/infosys/dividends/IT#IT'\n",
    "d = 'https://www.moneycontrol.com/company-facts/infosys/bonus/IT#IT'\n",
    "# d = 'https://www.moneycontrol.com/company-facts/NIFTY%20BANK/dividends/TCS#TCS'\n",
    "# d = 'https://www.moneycontrol.com/company-facts/tataconsultancyservices/bonus/TCS'\n",
    "driver.get(d)"
   ]
  },
  {
   "cell_type": "code",
   "execution_count": 171,
   "metadata": {},
   "outputs": [],
   "source": []
  },
  {
   "cell_type": "code",
   "execution_count": 195,
   "metadata": {},
   "outputs": [],
   "source": [
    "find = driver.find_elements_by_tag_name('tr')\n",
    "j = []\n",
    "for i in find[2:]:\n",
    "    if len(i.text.split(' ')) > 2 and float(i.text.split(' ')[0][-4:]) >= 2006 :\n",
    "#         print(float(i.text.split(' ')[0][-4:]) >= 2006)\n",
    "        j.append([float(i.text.split(' ')[0][-4:]),i.text.split(' ')[3]])"
   ]
  },
  {
   "cell_type": "code",
   "execution_count": 197,
   "metadata": {},
   "outputs": [
    {
     "name": "stdout",
     "output_type": "stream",
     "text": [
      "13-07-2018 1:1 05-09-2018 04-09-2018\n",
      "1:1\n",
      "24-04-2015 1:1 30-11--0001 15-06-2015\n",
      "1:1\n",
      "10-10-2014 1:1 03-12-2014 02-12-2014\n",
      "1:1\n",
      "14-04-2006 1:1 14-07-2006 13-07-2006\n",
      "1:1\n",
      "13-04-2004 3:1 02-07-2004 01-07-2004\n",
      "25-01-1999 1:1 05-03-1999 08-02-1999\n",
      "18-06-1997 1:1 12-09-1997 19-08-1997\n",
      "30-06-1994 1:1 15-09-1994 19-08-1994\n"
     ]
    }
   ],
   "source": [
    "bonus = driver.find_elements_by_tag_name('tr')\n",
    "l = []\n",
    "for i in bonus[2:] :\n",
    "    print(i.text)\n",
    "    if float(i.text.split(' ')[0][-4:]) >= 2006:\n",
    "        print(i.text.split(' ')[1] )\n",
    "        l.append([float(i.text.split(' ')[0][-4:]),i.text.split(' ')[1] ])"
   ]
  },
  {
   "cell_type": "code",
   "execution_count": 200,
   "metadata": {},
   "outputs": [
    {
     "data": {
      "text/plain": [
       "[[2018.0, '1:1'], [2015.0, '1:1'], [2014.0, '1:1'], [2006.0, '1:1']]"
      ]
     },
     "execution_count": 200,
     "metadata": {},
     "output_type": "execute_result"
    }
   ],
   "source": [
    "l"
   ]
  },
  {
   "cell_type": "code",
   "execution_count": null,
   "metadata": {},
   "outputs": [],
   "source": []
  },
  {
   "cell_type": "code",
   "execution_count": 199,
   "metadata": {},
   "outputs": [
    {
     "data": {
      "text/plain": [
       "[[2020.0, '240.00'],\n",
       " [2020.0, '190.00'],\n",
       " [2019.0, '160.00'],\n",
       " [2019.0, '210.00'],\n",
       " [2019.0, '80.00'],\n",
       " [2018.0, '140.00'],\n",
       " [2018.0, '410.00'],\n",
       " [2018.0, '200.00'],\n",
       " [2017.0, '260.00'],\n",
       " [2017.0, '295.00'],\n",
       " [2016.0, '220.00'],\n",
       " [2016.0, '285.00'],\n",
       " [2015.0, '200.00'],\n",
       " [2015.0, '590.00'],\n",
       " [2014.0, '600.00'],\n",
       " [2014.0, '860.00'],\n",
       " [2013.0, '400.00'],\n",
       " [2013.0, '540.00'],\n",
       " [2012.0, '300.00'],\n",
       " [2012.0, '640.00'],\n",
       " [2011.0, '300.00'],\n",
       " [2011.0, '400.00'],\n",
       " [2010.0, '800.00'],\n",
       " [2010.0, '300.00'],\n",
       " [2009.0, '200.00'],\n",
       " [2009.0, '270.00'],\n",
       " [2008.0, '200.00'],\n",
       " [2008.0, '545.00'],\n",
       " [2007.0, '120.00'],\n",
       " [2007.0, '130.00'],\n",
       " [2006.0, '100.00'],\n",
       " [2006.0, '770.00']]"
      ]
     },
     "execution_count": 199,
     "metadata": {},
     "output_type": "execute_result"
    }
   ],
   "source": [
    "j"
   ]
  },
  {
   "cell_type": "code",
   "execution_count": 201,
   "metadata": {},
   "outputs": [],
   "source": [
    "def share(n , l):\n",
    "    num_share = {}\n",
    "    share_dict = {}\n",
    "    for i in l:\n",
    "        share_dict[i[0]] = (float(i[1][0]) + float(i[1][2])) / float(i[1][2])\n",
    "        share_dict\n",
    "    \n",
    "    for i in range(2020 , 2000 , -1):\n",
    "        if i in share_dict:\n",
    "            n = n/share_dict[i]\n",
    "        num_share[i] = n\n",
    "    return num_share\n",
    "shares_num = share(400 , l)      "
   ]
  },
  {
   "cell_type": "code",
   "execution_count": 203,
   "metadata": {},
   "outputs": [
    {
     "name": "stdout",
     "output_type": "stream",
     "text": [
      "2020.0 400 12.0 4800.0\n",
      "2020.0 400 9.5 3800.0\n",
      "2019.0 400 8.0 3200.0\n",
      "2019.0 400 10.5 4200.0\n",
      "2019.0 400 4.0 1600.0\n",
      "2018.0 200.0 7.0 1400.0\n",
      "2018.0 200.0 20.5 4100.0\n",
      "2018.0 200.0 10.0 2000.0\n",
      "2017.0 200.0 13.0 2600.0\n",
      "2017.0 200.0 14.75 2950.0\n",
      "2016.0 200.0 11.0 2200.0\n",
      "2016.0 200.0 14.25 2850.0\n",
      "2015.0 100.0 10.0 1000.0\n",
      "2015.0 100.0 29.5 2950.0\n",
      "2014.0 50.0 30.0 1500.0\n",
      "2014.0 50.0 43.0 2150.0\n",
      "2013.0 50.0 20.0 1000.0\n",
      "2013.0 50.0 27.0 1350.0\n",
      "2012.0 50.0 15.0 750.0\n",
      "2012.0 50.0 32.0 1600.0\n",
      "2011.0 50.0 15.0 750.0\n",
      "2011.0 50.0 20.0 1000.0\n",
      "2010.0 50.0 40.0 2000.0\n",
      "2010.0 50.0 15.0 750.0\n",
      "2009.0 50.0 10.0 500.0\n",
      "2009.0 50.0 13.5 675.0\n",
      "2008.0 50.0 10.0 500.0\n",
      "2008.0 50.0 27.25 1362.5\n",
      "2007.0 50.0 6.0 300.0\n",
      "2007.0 50.0 6.5 325.0\n",
      "2006.0 25.0 5.0 125.0\n",
      "2006.0 25.0 38.5 962.5\n"
     ]
    },
    {
     "data": {
      "text/plain": [
       "57250.0"
      ]
     },
     "execution_count": 203,
     "metadata": {},
     "output_type": "execute_result"
    }
   ],
   "source": [
    "shares_num\n",
    "tot = 0\n",
    "fv = 5\n",
    "for i in j:\n",
    "    temp = shares_num[i[0]] *fv* float(i[1]) /100 \n",
    "    tot+= temp\n",
    "    print(i[0],shares_num[i[0]] ,float(i[1])*fv /100, temp)\n",
    "tot"
   ]
  },
  {
   "cell_type": "code",
   "execution_count": null,
   "metadata": {},
   "outputs": [],
   "source": [
    "tcs = 23235\n",
    "infy = 57250"
   ]
  }
 ],
 "metadata": {
  "kernelspec": {
   "display_name": "Python 3",
   "language": "python",
   "name": "python3"
  },
  "language_info": {
   "codemirror_mode": {
    "name": "ipython",
    "version": 3
   },
   "file_extension": ".py",
   "mimetype": "text/x-python",
   "name": "python",
   "nbconvert_exporter": "python",
   "pygments_lexer": "ipython3",
   "version": "3.7.10"
  }
 },
 "nbformat": 4,
 "nbformat_minor": 4
}
