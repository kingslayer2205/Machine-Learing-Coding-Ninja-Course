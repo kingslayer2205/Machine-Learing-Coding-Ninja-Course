{
 "cells": [
  {
   "cell_type": "code",
   "execution_count": 1,
   "metadata": {},
   "outputs": [],
   "source": [
    "import numpy as np\n",
    "diabetes_train = np.loadtxt(\"training_diabetes_x_y_train.csv\" ,  delimiter=',')\n",
    "x_train = diabetes_train[: , 1]\n",
    "y_train = diabetes_train[: , -1]\n",
    "\n",
    "diabetes_test = np.loadtxt(\"test_diabetes_x_test.csv\" ,  delimiter=',')\n",
    "x_test = diabetes_test[: , :]\n",
    "\n"
   ]
  },
  {
   "cell_type": "code",
   "execution_count": 2,
   "metadata": {},
   "outputs": [
    {
     "data": {
      "text/plain": [
       "331"
      ]
     },
     "execution_count": 2,
     "metadata": {},
     "output_type": "execute_result"
    }
   ],
   "source": [
    "len(diabetes_train)"
   ]
  },
  {
   "cell_type": "code",
   "execution_count": 3,
   "metadata": {},
   "outputs": [],
   "source": [
    "def step_gradient(data , learning_rate , m , c):\n",
    "    N = len(data)\n",
    "    m_slope = 0\n",
    "    c_slope = 0\n",
    "    for i in range(N):\n",
    "        x = data[i,0]\n",
    "        y = data[i,-1]\n",
    "        m_slope += (-2/N) * (y-m*x-c)*c\n",
    "        c_slope += (-2/N) * (y-m*x-c)\n",
    "    new_m = m - learning_rate * m_slope\n",
    "    new_c = c - learning_rate * c_slope\n",
    "    return new_m , new_c"
   ]
  },
  {
   "cell_type": "code",
   "execution_count": 4,
   "metadata": {},
   "outputs": [],
   "source": [
    "def gd(data , learning_rate , num_iteration):\n",
    "    m = 0\n",
    "    c = 0\n",
    "    for i in range(num_iteration):\n",
    "        m,c = step_gradient(data , learning_rate , m , c)\n",
    "        print(i , \"Cost \" , cost(data,m,c))\n",
    "    return m,c\n",
    "    "
   ]
  },
  {
   "cell_type": "code",
   "execution_count": 5,
   "metadata": {},
   "outputs": [],
   "source": [
    "def cost(data , m ,c):\n",
    "    total_cost = 0\n",
    "    M = len(data)\n",
    "    for i in range(M):\n",
    "        x = data[i,0]\n",
    "        y = data[i,-1]\n",
    "        total_cost += (1/M) * ((y-m*x-c)**2)\n",
    "    return total_cost"
   ]
  },
  {
   "cell_type": "code",
   "execution_count": 8,
   "metadata": {},
   "outputs": [
    {
     "name": "stdout",
     "output_type": "stream",
     "text": [
      "0 Cost  27408.939418092206\n",
      "1 Cost  26547.42563294428\n",
      "2 Cost  25712.177694311635\n",
      "3 Cost  24904.106021135445\n",
      "4 Cost  24124.782368688255\n",
      "5 Cost  23376.291578097665\n",
      "6 Cost  22661.10318227246\n",
      "7 Cost  21981.9606959893\n",
      "8 Cost  21341.786632814375\n",
      "9 Cost  20743.601486283143\n",
      "337.52302133534533 27.392158101360362\n"
     ]
    }
   ],
   "source": [
    "def run():\n",
    "    data = np.loadtxt(\"training_diabetes_x_y_train.csv\" ,  delimiter=',')\n",
    "    learning_rate = 0.01\n",
    "    num_iteration = 10\n",
    "    m,c = gd(data , learning_rate , num_iteration)\n",
    "    print(m,c)\n",
    "run()"
   ]
  },
  {
   "cell_type": "code",
   "execution_count": 9,
   "metadata": {},
   "outputs": [],
   "source": [
    "def step_gradient(data , learning_rate , m , c):\n",
    "    N = len(data)\n",
    "    m_slope = 0\n",
    "    c_slope = 0\n",
    "    for i in range(N):\n",
    "        x = data[i,0]\n",
    "        y = data[i,-1]\n",
    "        m_slope += (-2/N) * (y-m*x-c)*c\n",
    "        c_slope += (-2/N) * (y-m*x-c)\n",
    "   \n",
    "    new_m = m - learning_rate * m_slope\n",
    "    new_c = c - learning_rate * c_slope\n",
    "    return new_m , new_c"
   ]
  },
  {
   "cell_type": "code",
   "execution_count": 10,
   "metadata": {},
   "outputs": [],
   "source": [
    "def step_gradient_full(data , learning_rate , m ):\n",
    "    N = len(data)\n",
    "    m_slope = [0 for i in range(data.shape[1]-1)]\n",
    "    for i in range(N):\n",
    "        y = data[i,-1]\n",
    "        fin_m = 0\n",
    "        for j in range(data.shape[1]-1):\n",
    "            x = data[i,j]\n",
    "            fin_m += m[j] * x\n",
    "        for j in range(data.shape[1]-1):\n",
    "            m_slope[j] += (-2/N) * (y-fin_m)*data[i,j]\n",
    "        \n",
    "    \n",
    "    new_m = [0 for i in range(data.shape[1]-1)]\n",
    "\n",
    "    for i in range(len(m)):\n",
    "        new_m[i] = m[i] - (learning_rate * m_slope[i])\n",
    "    \n",
    "    return new_m "
   ]
  },
  {
   "cell_type": "code",
   "execution_count": 11,
   "metadata": {},
   "outputs": [],
   "source": [
    "def gd_full(data , learning_rate , num_iteration):\n",
    "    m = [0 for i in range(data.shape[1]-1)]\n",
    "    \n",
    "    for i in range(num_iteration):\n",
    "        m = step_gradient_full(data , learning_rate , m )\n",
    "        print(i , \"Cost \" , cost_full(data,m))\n",
    "#         print(m)\n",
    "    return m\n",
    "    "
   ]
  },
  {
   "cell_type": "code",
   "execution_count": 12,
   "metadata": {},
   "outputs": [],
   "source": [
    "def cost_full(data , m):\n",
    "    total_cost = 0\n",
    "    M = len(data)\n",
    "    for i in range(M):\n",
    "        y = data[i,-1]\n",
    "        fin_m = 0\n",
    "        for j in range(data.shape[1]-1):\n",
    "            x = data[i,j]\n",
    "            fin_m += m[j] * x\n",
    "        total_cost += (1/M) * ((y-fin_m)**2)\n",
    "    return total_cost"
   ]
  },
  {
   "cell_type": "code",
   "execution_count": 15,
   "metadata": {},
   "outputs": [],
   "source": [
    "def run_full():\n",
    "    data = np.loadtxt(\"training_diabetes_x_y_train.csv\" ,  delimiter=',')\n",
    "\n",
    "    learning_rate = 0.0001\n",
    "    num_iteration = 10\n",
    "    m = gd_full(data , learning_rate , num_iteration)\n",
    "    print(m)"
   ]
  },
  {
   "cell_type": "code",
   "execution_count": 16,
   "metadata": {},
   "outputs": [
    {
     "name": "stdout",
     "output_type": "stream",
     "text": [
      "0 Cost  28296.634423569674\n",
      "1 Cost  28296.628363773834\n",
      "2 Cost  28296.622303996122\n",
      "3 Cost  28296.616244236528\n",
      "4 Cost  28296.610184495075\n",
      "5 Cost  28296.60412477175\n",
      "6 Cost  28296.598065066537\n",
      "7 Cost  28296.59200537947\n",
      "8 Cost  28296.58594571054\n",
      "9 Cost  28296.57988605973\n",
      "[0.001037272390643856, 0.00015072631620500427, 0.004413797893128777, 0.0025710637951107066, 0.0010351705722485708, 0.0008271633073330733, -0.002461354321444611, 0.002368761598594418, 0.0034664977273606594, 0.002822243010277524]\n"
     ]
    }
   ],
   "source": [
    "run_full()"
   ]
  },
  {
   "cell_type": "code",
   "execution_count": 17,
   "metadata": {},
   "outputs": [
    {
     "data": {
      "text/plain": [
       "(331, 11)"
      ]
     },
     "execution_count": 17,
     "metadata": {},
     "output_type": "execute_result"
    }
   ],
   "source": [
    "data = np.loadtxt(\"training_diabetes_x_y_train.csv\" ,  delimiter=',')\n",
    "data.shape"
   ]
  },
  {
   "cell_type": "code",
   "execution_count": 18,
   "metadata": {},
   "outputs": [
    {
     "data": {
      "text/plain": [
       "[-8, -9]"
      ]
     },
     "execution_count": 18,
     "metadata": {},
     "output_type": "execute_result"
    }
   ],
   "source": [
    "m = [2 , 3]\n",
    "l = 2\n",
    "m_slope = [5,6]\n",
    "new_m = [0,0]\n",
    "\n",
    "for i in range(len(m)):\n",
    "    new_m[i] = m[i] - (l*m_slope[i])\n",
    "new_m"
   ]
  },
  {
   "cell_type": "code",
   "execution_count": 19,
   "metadata": {},
   "outputs": [],
   "source": [
    "import numpy as np\n",
    "from sklearn import preprocessing"
   ]
  },
  {
   "cell_type": "code",
   "execution_count": 20,
   "metadata": {},
   "outputs": [],
   "source": [
    "x = np.array([[1. , -1 , 2.],\n",
    "              [2. , 0. , 0.],\n",
    "              [0. , 1. ,-1.]])"
   ]
  },
  {
   "cell_type": "code",
   "execution_count": 21,
   "metadata": {},
   "outputs": [],
   "source": [
    "x_scaled = preprocessing.scale(x)"
   ]
  },
  {
   "cell_type": "code",
   "execution_count": 22,
   "metadata": {},
   "outputs": [
    {
     "data": {
      "text/plain": [
       "array([0., 0., 0.])"
      ]
     },
     "execution_count": 22,
     "metadata": {},
     "output_type": "execute_result"
    }
   ],
   "source": [
    "x_scaled.mean(axis=0)"
   ]
  },
  {
   "cell_type": "code",
   "execution_count": 23,
   "metadata": {},
   "outputs": [
    {
     "data": {
      "text/plain": [
       "array([1., 1., 1.])"
      ]
     },
     "execution_count": 23,
     "metadata": {},
     "output_type": "execute_result"
    }
   ],
   "source": [
    "x_scaled.std(axis = 0)"
   ]
  },
  {
   "cell_type": "code",
   "execution_count": 24,
   "metadata": {},
   "outputs": [
    {
     "data": {
      "text/plain": [
       "array([[ 0.        , -1.22474487,  1.33630621],\n",
       "       [ 1.22474487,  0.        , -0.26726124],\n",
       "       [-1.22474487,  1.22474487, -1.06904497]])"
      ]
     },
     "execution_count": 24,
     "metadata": {},
     "output_type": "execute_result"
    }
   ],
   "source": [
    "scaler = preprocessing.StandardScaler()\n",
    "scaler.fit(x)\n",
    "scaler.transform(x)"
   ]
  },
  {
   "cell_type": "code",
   "execution_count": null,
   "metadata": {},
   "outputs": [],
   "source": []
  },
  {
   "cell_type": "code",
   "execution_count": null,
   "metadata": {},
   "outputs": [],
   "source": []
  },
  {
   "cell_type": "code",
   "execution_count": null,
   "metadata": {},
   "outputs": [],
   "source": []
  },
  {
   "cell_type": "code",
   "execution_count": null,
   "metadata": {},
   "outputs": [],
   "source": []
  },
  {
   "cell_type": "code",
   "execution_count": null,
   "metadata": {},
   "outputs": [],
   "source": []
  },
  {
   "cell_type": "code",
   "execution_count": null,
   "metadata": {},
   "outputs": [],
   "source": []
  }
 ],
 "metadata": {
  "kernelspec": {
   "display_name": "Python 3",
   "language": "python",
   "name": "python3"
  },
  "language_info": {
   "codemirror_mode": {
    "name": "ipython",
    "version": 3
   },
   "file_extension": ".py",
   "mimetype": "text/x-python",
   "name": "python",
   "nbconvert_exporter": "python",
   "pygments_lexer": "ipython3",
   "version": "3.7.10"
  }
 },
 "nbformat": 4,
 "nbformat_minor": 4
}
